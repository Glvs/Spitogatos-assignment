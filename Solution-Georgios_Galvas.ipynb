{
 "cells": [
  {
   "cell_type": "markdown",
   "id": "7c30b82e",
   "metadata": {},
   "source": [
    "# Spitogatos Assignment"
   ]
  },
  {
   "cell_type": "markdown",
   "id": "6bb472d6",
   "metadata": {},
   "source": [
    "    author: Georgios Galvas\n",
    "    date:   10/04/2023"
   ]
  },
  {
   "cell_type": "markdown",
   "id": "77522f5c",
   "metadata": {},
   "source": [
    "<a id=\"0\"></a> <br>\n",
    "\n",
    "### Table of Contents  \n",
    "01. [Initial Data Cleaning and Pre-processing](#2)\n",
    "02. [Question 01](#3)\n",
    "03. [Question 02](#4)\n",
    "04. [Question 03](#5)\n",
    "    - [Feature Exploration](#feature_exploration)\n",
    "    - [Feature Engineering](#feature_engineering)\n",
    "    - [Model training](#train_models)"
   ]
  },
  {
   "cell_type": "markdown",
   "id": "11c30b3f",
   "metadata": {},
   "source": [
    "    "
   ]
  },
  {
   "cell_type": "code",
   "execution_count": 1,
   "id": "1e2084cc",
   "metadata": {},
   "outputs": [],
   "source": [
    "import numpy as np\n",
    "import pandas as pd\n",
    "import scipy.stats as stats\n",
    "import matplotlib.pyplot as plt\n",
    "import seaborn as sns\n",
    "import random\n",
    "from xgboost import XGBRegressor, plot_importance\n",
    "from sklearn.model_selection import train_test_split\n",
    "from sklearn.model_selection import GridSearchCV, cross_val_score, KFold\n",
    "from sklearn.preprocessing import StandardScaler\n",
    "from sklearn.metrics import mean_squared_error, mean_absolute_error, median_absolute_error, r2_score\n",
    "\n",
    "%matplotlib inline\n",
    "\n",
    "pd.set_option('display.float_format', lambda x: '%.3f' % x)\n",
    "\n",
    "# Read dataset:\n",
    "data = pd.read_csv('data/assignment_rev2.csv')"
   ]
  },
  {
   "cell_type": "markdown",
   "id": "89b293e2",
   "metadata": {},
   "source": [
    "    "
   ]
  },
  {
   "cell_type": "code",
   "execution_count": 2,
   "id": "eaf01eeb",
   "metadata": {},
   "outputs": [
    {
     "data": {
      "text/plain": [
       "(15447, 56)"
      ]
     },
     "execution_count": 2,
     "metadata": {},
     "output_type": "execute_result"
    }
   ],
   "source": [
    "data.shape"
   ]
  },
  {
   "cell_type": "markdown",
   "id": "20e9b360",
   "metadata": {},
   "source": [
    "    "
   ]
  },
  {
   "cell_type": "markdown",
   "id": "831f811b",
   "metadata": {},
   "source": [
    "## Initial Data Cleaning & Pre-processing <a class=\"anchor\" id=\"2\"></a>"
   ]
  },
  {
   "cell_type": "markdown",
   "id": "b4a5739f",
   "metadata": {},
   "source": [
    "The main steps for cleaning and preparing the dataset are the following:\n",
    "\n",
    "- Remove Duplicates (Finding a way to detect them)\n",
    "- Treat Missing Values (Imputation or Deletion)\n",
    "- Remove Unrealistic/Wrong values\n",
    "- Detect and Treat Outliers (Trimming or Capping)"
   ]
  },
  {
   "cell_type": "markdown",
   "id": "a062148a",
   "metadata": {},
   "source": [
    "    "
   ]
  },
  {
   "cell_type": "markdown",
   "id": "d3c706ca",
   "metadata": {},
   "source": [
    "    "
   ]
  },
  {
   "cell_type": "markdown",
   "id": "2a513e8a",
   "metadata": {},
   "source": [
    "#### How to find the duplicate house listings?"
   ]
  },
  {
   "cell_type": "markdown",
   "id": "b39b929f",
   "metadata": {},
   "source": [
    "As mentioned on the assignment's description, it is possible that a house listing is present more than once on the dataset, with a different `id`, as it may have been registered by different agents. \n",
    "\n",
    "As a first step, we are going to check if there are duplicate houses, i.e. houses with the same 'characteristics' / features, by ignoring the house's `id` and `agent_id`. \n",
    "\n",
    "From below we see that no duplicates were found, since the dataset continues to have the same number of rows after dropping the duplicates. "
   ]
  },
  {
   "cell_type": "code",
   "execution_count": 3,
   "id": "e5619e5b",
   "metadata": {},
   "outputs": [
    {
     "name": "stdout",
     "output_type": "stream",
     "text": [
      "Same #rows after duplicate deletion: \tTrue\n"
     ]
    }
   ],
   "source": [
    "same_nrows = data.drop(['id', 'agent_id'], axis=1).drop_duplicates().shape[0]==data.shape[0]\n",
    "print(f\"Same #rows after duplicate deletion: \\t{same_nrows}\")"
   ]
  },
  {
   "cell_type": "markdown",
   "id": "25541bc7",
   "metadata": {},
   "source": [
    "    "
   ]
  },
  {
   "cell_type": "markdown",
   "id": "9ae23799",
   "metadata": {},
   "source": [
    "This could be explained as follows:\n",
    "\n",
    "Assuming that there is at least one house present in the dataset more than once, it could have been that it was registered with at least one different characteristic (feature) by different agents. For example, it could be that different agents registered the same house with a slightly different price. Or one agent registered whether the house has a `fireplace` and another agent left this field empty, (maybe from pure boredom) occuring to a missing value. That is a possible explanation on why there were not duplicates found. \n",
    "\n",
    "A way to tackle this is to check for duplicates by taking a subset of the features/characteristics of the houses, preferably features that are not on the judgement of an agent, but are unarguable, those that would have been written on the property contract of the house. For example the `sq_meters` of a house could not be given different by different agents, as it is written on the property contract. Furthermore, the `floor` or `number of rooms` of a house are characteristics that could not have different values filled by different agents.\n",
    "\n",
    "Finally, from this subset we will also exclude the Boolean/utilities characteristics, since they have many missing values. In  general it is better to avoid including features with missing values on this subset."
   ]
  },
  {
   "cell_type": "markdown",
   "id": "d1cd4f20",
   "metadata": {},
   "source": [
    "    "
   ]
  },
  {
   "cell_type": "markdown",
   "id": "710a1fdc",
   "metadata": {},
   "source": [
    "    "
   ]
  },
  {
   "cell_type": "markdown",
   "id": "3cc02d8f",
   "metadata": {},
   "source": [
    "#### Analyzing the impact on the dataset when removing duplicates considering different subsets"
   ]
  },
  {
   "cell_type": "code",
   "execution_count": 4,
   "id": "426a92ec",
   "metadata": {},
   "outputs": [
    {
     "name": "stdout",
     "output_type": "stream",
     "text": [
      "Removed features:     []\n",
      "Rows removed:         943\n",
      "Percentage removed:   6.1%\n",
      "\n",
      "Removed features:     ['balcony_area']\n",
      "Rows removed:         1166\n",
      "Percentage removed:   7.55%\n",
      "\n",
      "Removed features:     ['balcony_area', 'kitchens']\n",
      "Rows removed:         1339\n",
      "Percentage removed:   8.67%\n",
      "\n",
      "Removed features:     ['balcony_area', 'kitchens', 'no_of_wc']\n",
      "Rows removed:         1499\n",
      "Percentage removed:   9.7%\n",
      "\n",
      "Removed features:     ['balcony_area', 'kitchens', 'no_of_wc', 'no_of_bathrooms']\n",
      "Rows removed:         1936\n",
      "Percentage removed:   12.53%\n",
      "\n",
      "Removed features:     ['balcony_area', 'kitchens', 'no_of_wc', 'no_of_bathrooms', 'living_rooms']\n",
      "Rows removed:         2724\n",
      "Percentage removed:   17.63%\n",
      "\n",
      "Removed features:     ['balcony_area', 'kitchens', 'no_of_wc', 'no_of_bathrooms', 'living_rooms', 'rooms']\n",
      "Rows removed:         3094\n",
      "Percentage removed:   20.03%\n",
      "\n"
     ]
    }
   ],
   "source": [
    "def remove_duplicates(df, features):\n",
    "    '''\n",
    "    Removes the duplicates from a dataframe considering the 'features'. \n",
    "    Returns the indeces of the dataframe that remained.\n",
    "    '''\n",
    "    \n",
    "    df_no_duplicates = df.drop_duplicates(subset=features)\n",
    "    nrows_removed = df.shape[0] - df_no_duplicates.shape[0]\n",
    "        \n",
    "    print(f\"Rows removed:         {nrows_removed}\")\n",
    "    print(f\"Percentage removed:   {round(100*nrows_removed/df.shape[0],2)}%\")\n",
    "    print()\n",
    "    \n",
    "\n",
    "# A good choice of features. We can say that the first row of the list are the most important, \n",
    "# while the second row the least important. \n",
    "features = ['subtype', 'geography_name', 'sq_meters', 'year_of_construction', 'floor', 'price',\n",
    "            'rooms', 'living_rooms', 'no_of_bathrooms', 'no_of_wc', 'kitchens', 'balcony_area']\n",
    "\n",
    "removed_features = []\n",
    "for i in range(7):\n",
    "    if i != 0:\n",
    "        removed_features.append(features.pop())\n",
    "    \n",
    "    print(f\"Removed features:     {removed_features}\")\n",
    "    remove_duplicates(data, features)\n",
    " "
   ]
  },
  {
   "cell_type": "markdown",
   "id": "b2086aea",
   "metadata": {},
   "source": [
    "    "
   ]
  },
  {
   "cell_type": "markdown",
   "id": "afe710af",
   "metadata": {},
   "source": [
    "\n",
    "**NOTE:** \n",
    "It is questionable whether `price` should or should not be included. It is the case that `price` is a good and sometimes unique descriptor of a house, but it is also the case that different agents register the same house with slightly different prices (for example adding an extra 5%-10% to the price anticipating that there will be a bargain by the buyer and thus the house will eventually be sold on the initial, preferred value. \n",
    "\n",
    "**Extra thing I would like to try:**\n",
    "\n",
    "If two houses with the same characteristics have a difference on the price of magnitude 5% (or 10% or x%, x to be chosen) then they are considered to be the same house. "
   ]
  },
  {
   "cell_type": "markdown",
   "id": "54337684",
   "metadata": {},
   "source": [
    "We choose the folowing features as a subset for removing duplicates, thus removing 943 (6.1%) rows. `df` will be the dataframe without duplicates, that we will work from now on. \n"
   ]
  },
  {
   "cell_type": "code",
   "execution_count": 5,
   "id": "93eb619a",
   "metadata": {},
   "outputs": [
    {
     "data": {
      "text/plain": [
       "(14504, 56)"
      ]
     },
     "execution_count": 5,
     "metadata": {},
     "output_type": "execute_result"
    }
   ],
   "source": [
    "features = ['subtype', 'geography_name', 'year_of_construction', 'sq_meters', 'floor', 'price',\n",
    "            'rooms', 'living_rooms', 'no_of_bathrooms', 'no_of_wc', 'kitchens', 'balcony_area']\n",
    "\n",
    "data.drop_duplicates(subset=features, inplace=True)\n",
    "data.shape"
   ]
  },
  {
   "cell_type": "markdown",
   "id": "29a859c2",
   "metadata": {},
   "source": [
    "#### Boolean features"
   ]
  },
  {
   "cell_type": "markdown",
   "id": "a2f0a71e",
   "metadata": {},
   "source": [
    "We consider the features of the dataset that are Boolean and investigate them seperately. We can also name them **Utility features** as they describe whether a house has specific utilities or not (garage, pool, alarm, fireplace, etc).\n",
    "\n",
    "\n",
    "From below we observe the following regarding the *Boolean features*:\n",
    "- All of the 37 boolean features have missing values,\n",
    "- The boolean feature with the most missing values has 96.3% values missing, \n",
    "- The boolean feature with the least missing values has 10.6% values missing. "
   ]
  },
  {
   "cell_type": "code",
   "execution_count": 6,
   "id": "7f270c22",
   "metadata": {},
   "outputs": [
    {
     "data": {
      "text/plain": [
       "True"
      ]
     },
     "execution_count": 6,
     "metadata": {},
     "output_type": "execute_result"
    }
   ],
   "source": [
    "# Find the Boolean features: \n",
    "boolean_features = [col for col in data.columns if set(data[col].unique())==set([True,False,np.nan])]\n",
    "df_utilities = data[boolean_features].copy()\n",
    "\n",
    "# The rest of the features: \n",
    "rest_features = list(set(data.columns).difference(set(boolean_features)))\n",
    "df_rest = data[rest_features].copy()\n",
    "\n",
    "# Validation check:\n",
    "len(rest_features) + len(boolean_features) == data.shape[1]"
   ]
  },
  {
   "cell_type": "code",
   "execution_count": 7,
   "id": "40656fc0",
   "metadata": {},
   "outputs": [
    {
     "name": "stdout",
     "output_type": "stream",
     "text": [
      "Min missing value on features: 10.8%\n",
      "Max missing value on features: 96.3%\n"
     ]
    }
   ],
   "source": [
    "missing_bool = pd.DataFrame(100*df_utilities.isna().sum()/data.shape[0])\n",
    "print(f\"Min missing value on features: {round(missing_bool.min()[0], 1)}%\")\n",
    "print(f\"Max missing value on features: {round(missing_bool.max()[0], 1)}%\")"
   ]
  },
  {
   "cell_type": "markdown",
   "id": "889ab5f7",
   "metadata": {},
   "source": [
    "    "
   ]
  },
  {
   "cell_type": "markdown",
   "id": "2c348f5d",
   "metadata": {},
   "source": [
    "    "
   ]
  },
  {
   "cell_type": "markdown",
   "id": "6aa8dcff",
   "metadata": {},
   "source": [
    "##  Question 01 <a class=\"anchor\" id=\"3\"></a>"
   ]
  },
  {
   "cell_type": "markdown",
   "id": "ceec22ad",
   "metadata": {},
   "source": [
    "<img src=\"pics/question_1.png\" style=\"width: 700px;\"/>"
   ]
  },
  {
   "cell_type": "markdown",
   "id": "cb981f50",
   "metadata": {},
   "source": [
    "We will work with a subset of the dataset for now. "
   ]
  },
  {
   "cell_type": "code",
   "execution_count": 8,
   "id": "476004f0",
   "metadata": {},
   "outputs": [
    {
     "data": {
      "text/html": [
       "<div>\n",
       "<style scoped>\n",
       "    .dataframe tbody tr th:only-of-type {\n",
       "        vertical-align: middle;\n",
       "    }\n",
       "\n",
       "    .dataframe tbody tr th {\n",
       "        vertical-align: top;\n",
       "    }\n",
       "\n",
       "    .dataframe thead th {\n",
       "        text-align: right;\n",
       "    }\n",
       "</style>\n",
       "<table border=\"1\" class=\"dataframe\">\n",
       "  <thead>\n",
       "    <tr style=\"text-align: right;\">\n",
       "      <th></th>\n",
       "      <th>id</th>\n",
       "      <th>agent_id</th>\n",
       "      <th>geography_name</th>\n",
       "      <th>subtype</th>\n",
       "      <th>year_of_construction</th>\n",
       "      <th>sq_meters</th>\n",
       "      <th>price</th>\n",
       "      <th>price_per_sq_meter</th>\n",
       "    </tr>\n",
       "  </thead>\n",
       "  <tbody>\n",
       "    <tr>\n",
       "      <th>0</th>\n",
       "      <td>42911697</td>\n",
       "      <td>14680.000</td>\n",
       "      <td>northern sub</td>\n",
       "      <td>apartment</td>\n",
       "      <td>2005</td>\n",
       "      <td>567</td>\n",
       "      <td>200000</td>\n",
       "      <td>352.734</td>\n",
       "    </tr>\n",
       "    <tr>\n",
       "      <th>1</th>\n",
       "      <td>43018583</td>\n",
       "      <td>15502.000</td>\n",
       "      <td>northern sub</td>\n",
       "      <td>detached</td>\n",
       "      <td>1992</td>\n",
       "      <td>642</td>\n",
       "      <td>550000</td>\n",
       "      <td>856.698</td>\n",
       "    </tr>\n",
       "    <tr>\n",
       "      <th>2</th>\n",
       "      <td>39670968</td>\n",
       "      <td>9807.000</td>\n",
       "      <td>northern sub</td>\n",
       "      <td>detached</td>\n",
       "      <td>2009</td>\n",
       "      <td>320</td>\n",
       "      <td>500000</td>\n",
       "      <td>1562.500</td>\n",
       "    </tr>\n",
       "  </tbody>\n",
       "</table>\n",
       "</div>"
      ],
      "text/plain": [
       "         id  agent_id geography_name    subtype  year_of_construction   \n",
       "0  42911697 14680.000   northern sub  apartment                  2005  \\\n",
       "1  43018583 15502.000   northern sub   detached                  1992   \n",
       "2  39670968  9807.000   northern sub   detached                  2009   \n",
       "\n",
       "   sq_meters   price  price_per_sq_meter  \n",
       "0        567  200000             352.734  \n",
       "1        642  550000             856.698  \n",
       "2        320  500000            1562.500  "
      ]
     },
     "execution_count": 8,
     "metadata": {},
     "output_type": "execute_result"
    }
   ],
   "source": [
    "# We will work with only the following features, necessary to answer Question 01:\n",
    "cols1 = ['id', 'agent_id', 'geography_name', 'subtype', 'year_of_construction', 'sq_meters', 'price'] \n",
    "\n",
    "df1 = data.loc[:,cols1].copy()\n",
    "df1['price_per_sq_meter'] = df1['price']/df1['sq_meters']\n",
    "\n",
    "df1.head(3)"
   ]
  },
  {
   "cell_type": "markdown",
   "id": "4392733d",
   "metadata": {},
   "source": [
    "    "
   ]
  },
  {
   "cell_type": "markdown",
   "id": "067db87d",
   "metadata": {},
   "source": [
    "Treat **Outliers** and **Unrealistic Values** for the following features: \n",
    "\n",
    "1. price    \n",
    "2. sq_meters\n",
    "3. price_per_sq_meter\n"
   ]
  },
  {
   "cell_type": "markdown",
   "id": "9c10646a",
   "metadata": {},
   "source": [
    "    "
   ]
  },
  {
   "cell_type": "code",
   "execution_count": 9,
   "id": "2daa84d1",
   "metadata": {
    "scrolled": true
   },
   "outputs": [
    {
     "data": {
      "text/html": [
       "<div>\n",
       "<style scoped>\n",
       "    .dataframe tbody tr th:only-of-type {\n",
       "        vertical-align: middle;\n",
       "    }\n",
       "\n",
       "    .dataframe tbody tr th {\n",
       "        vertical-align: top;\n",
       "    }\n",
       "\n",
       "    .dataframe thead th {\n",
       "        text-align: right;\n",
       "    }\n",
       "</style>\n",
       "<table border=\"1\" class=\"dataframe\">\n",
       "  <thead>\n",
       "    <tr style=\"text-align: right;\">\n",
       "      <th></th>\n",
       "      <th>count</th>\n",
       "      <th>mean</th>\n",
       "      <th>std</th>\n",
       "      <th>min</th>\n",
       "      <th>25%</th>\n",
       "      <th>50%</th>\n",
       "      <th>75%</th>\n",
       "      <th>max</th>\n",
       "    </tr>\n",
       "  </thead>\n",
       "  <tbody>\n",
       "    <tr>\n",
       "      <th>sq_meters</th>\n",
       "      <td>14504.000</td>\n",
       "      <td>213.387</td>\n",
       "      <td>1177.210</td>\n",
       "      <td>1.000</td>\n",
       "      <td>90.000</td>\n",
       "      <td>143.000</td>\n",
       "      <td>255.000</td>\n",
       "      <td>140000.000</td>\n",
       "    </tr>\n",
       "    <tr>\n",
       "      <th>price</th>\n",
       "      <td>14504.000</td>\n",
       "      <td>607145.687</td>\n",
       "      <td>729309.672</td>\n",
       "      <td>0.000</td>\n",
       "      <td>240000.000</td>\n",
       "      <td>400000.000</td>\n",
       "      <td>750000.000</td>\n",
       "      <td>25000000.000</td>\n",
       "    </tr>\n",
       "    <tr>\n",
       "      <th>price_per_sq_meter</th>\n",
       "      <td>14504.000</td>\n",
       "      <td>2974.710</td>\n",
       "      <td>5740.008</td>\n",
       "      <td>0.000</td>\n",
       "      <td>1900.000</td>\n",
       "      <td>2631.579</td>\n",
       "      <td>3571.429</td>\n",
       "      <td>620000.000</td>\n",
       "    </tr>\n",
       "  </tbody>\n",
       "</table>\n",
       "</div>"
      ],
      "text/plain": [
       "                       count       mean        std   min        25%   \n",
       "sq_meters          14504.000    213.387   1177.210 1.000     90.000  \\\n",
       "price              14504.000 607145.687 729309.672 0.000 240000.000   \n",
       "price_per_sq_meter 14504.000   2974.710   5740.008 0.000   1900.000   \n",
       "\n",
       "                          50%        75%          max  \n",
       "sq_meters             143.000    255.000   140000.000  \n",
       "price              400000.000 750000.000 25000000.000  \n",
       "price_per_sq_meter   2631.579   3571.429   620000.000  "
      ]
     },
     "execution_count": 9,
     "metadata": {},
     "output_type": "execute_result"
    }
   ],
   "source": [
    "# Some summary statistics: \n",
    "\n",
    "df1[['sq_meters', 'price', 'price_per_sq_meter']].describe().T"
   ]
  },
  {
   "cell_type": "markdown",
   "id": "8b8b1cd3",
   "metadata": {},
   "source": [
    "    "
   ]
  },
  {
   "cell_type": "markdown",
   "id": "34d3c73e",
   "metadata": {},
   "source": [
    "It can be seen from the summary statistics above that: \n",
    "- there are unrealistic values, for example min value of price equal to zero\n",
    "- there are extreme values, for example a price of 25,000,000"
   ]
  },
  {
   "cell_type": "markdown",
   "id": "058693ad",
   "metadata": {},
   "source": [
    "    "
   ]
  },
  {
   "cell_type": "code",
   "execution_count": 10,
   "id": "094a96e5",
   "metadata": {},
   "outputs": [],
   "source": [
    "def diagnostic_plots(df, feature):\n",
    "    '''\n",
    "    Builds three plots in order to help understand the distribution of the data.\n",
    "        1. Histogram\n",
    "        2. Probability plot (or QQ-plot, for checking the distribution)\n",
    "        3. Boxplot\n",
    "    '''\n",
    "    \n",
    "    fig, ax = plt.subplots(1,3, figsize=(16,4))\n",
    "    #fig.suptitle(feature)\n",
    "    \n",
    "    # Build Histogram:\n",
    "    sns.histplot(df[feature], ax=ax[0])\n",
    "    ax[0].set_title('Histogram')\n",
    "    \n",
    "    # Build Probability plot:\n",
    "    plt.subplot(1, 3, 2)\n",
    "    stats.probplot(df[feature], dist=\"norm\", plot=plt)\n",
    "    ax[1].set_title('Probability plot')\n",
    "    \n",
    "    # Build Boxplot: \n",
    "    sns.boxplot(df[feature], ax=ax[2])\n",
    "    ax[2].set_title('Boxplot')\n",
    "    \n",
    "    plt.show()\n"
   ]
  },
  {
   "cell_type": "markdown",
   "id": "0958b517",
   "metadata": {},
   "source": [
    "   "
   ]
  },
  {
   "cell_type": "markdown",
   "id": "8de83bc0",
   "metadata": {},
   "source": [
    "As seen from the diagnostic plots below, none of the distribution of the three features under investigation is  Symmetric/Normal. They are all actually **right-skewed**."
   ]
  },
  {
   "cell_type": "code",
   "execution_count": 11,
   "id": "69f00d8a",
   "metadata": {
    "scrolled": true
   },
   "outputs": [
    {
     "data": {
      "image/png": "[encoded data removed]",
      "text/plain": [
       "<Figure size 1600x400 with 3 Axes>"
      ]
     },
     "metadata": {},
     "output_type": "display_data"
    }
   ],
   "source": [
    "diagnostic_plots(df1, 'price')"
   ]
  },
  {
   "cell_type": "code",
   "execution_count": 12,
   "id": "95893ee3",
   "metadata": {
    "scrolled": true
   },
   "outputs": [
    {
     "data": {
      "image/png": "[encoded data removed]",
      "text/plain": [
       "<Figure size 1600x400 with 3 Axes>"
      ]
     },
     "metadata": {},
     "output_type": "display_data"
    }
   ],
   "source": [
    "# We will not include the unrealistically high value of 140,000 sq_meters, so we can have a more informative \n",
    "# realization: \n",
    "\n",
    "diagnostic_plots(df1[df1['sq_meters']<140000], 'sq_meters')"
   ]
  },
  {
   "cell_type": "code",
   "execution_count": 13,
   "id": "ca8ec8f2",
   "metadata": {},
   "outputs": [
    {
     "data": {
      "image/png": "[encoded data removed]",
      "text/plain": [
       "<Figure size 1600x400 with 3 Axes>"
      ]
     },
     "metadata": {},
     "output_type": "display_data"
    }
   ],
   "source": [
    "# We will not include the two extreme values where price\n",
    "diagnostic_plots(df1[df1['price_per_sq_meter']<200000], 'price_per_sq_meter')"
   ]
  },
  {
   "cell_type": "markdown",
   "id": "a2d50a35",
   "metadata": {},
   "source": [
    "    "
   ]
  },
  {
   "cell_type": "markdown",
   "id": "0b77e624",
   "metadata": {},
   "source": [
    "    "
   ]
  },
  {
   "cell_type": "markdown",
   "id": "08d8112f",
   "metadata": {},
   "source": [
    "    "
   ]
  },
  {
   "cell_type": "code",
   "execution_count": 14,
   "id": "a9de6f87",
   "metadata": {},
   "outputs": [],
   "source": [
    "def find_boundaries_skewed(df, feature, fold):\n",
    "    '''\n",
    "    Finding the lower and upper limits when the dataset is skewed, using the Interquantile Range.\n",
    "    '''\n",
    "    \n",
    "    q25 = df[feature].quantile(0.25)\n",
    "    q75 = df[feature].quantile(0.75)\n",
    "    # Interquantile Range:\n",
    "    IQR = q75 - q25\n",
    "    \n",
    "    # Finding the boundaries:\n",
    "    lower_boundary = q25 - fold * IQR\n",
    "    upper_boundary = q75 + fold * IQR\n",
    "    \n",
    "    return(lower_boundary, upper_boundary)\n",
    "\n",
    "\n",
    "def find_boundaries_normal(df, feature, fold):\n",
    "    '''\n",
    "    Finding the lower and upper limits when the dataset is symmetical, using the 3sigma rule.\n",
    "    '''\n",
    "    \n",
    "    mean = df[feature].mean()\n",
    "    sigma = df[feature].std()\n",
    "    \n",
    "    lower_boundary = mean - fold * sigma\n",
    "    upper_boundary = mean + fold * sigma\n",
    "    \n",
    "    return(lower_boundary, upper_boundary)"
   ]
  },
  {
   "cell_type": "markdown",
   "id": "a857f896",
   "metadata": {},
   "source": [
    "    "
   ]
  },
  {
   "cell_type": "markdown",
   "id": "65b809f5",
   "metadata": {},
   "source": [
    "#### Square meters"
   ]
  },
  {
   "cell_type": "code",
   "execution_count": 15,
   "id": "8e150ae8",
   "metadata": {},
   "outputs": [
    {
     "name": "stdout",
     "output_type": "stream",
     "text": [
      "-405.0 750.0\n"
     ]
    }
   ],
   "source": [
    "lowlimit, highlimit = find_boundaries_skewed(df1, 'sq_meters', 3)\n",
    "print(lowlimit, highlimit)"
   ]
  },
  {
   "cell_type": "code",
   "execution_count": 16,
   "id": "b61f9652",
   "metadata": {},
   "outputs": [
    {
     "name": "stdout",
     "output_type": "stream",
     "text": [
      "-3318 3745\n"
     ]
    }
   ],
   "source": [
    "lowlimit, highlimit = find_boundaries_normal(df1, 'sq_meters', 3)\n",
    "print(round(lowlimit), round(highlimit))"
   ]
  },
  {
   "cell_type": "code",
   "execution_count": 17,
   "id": "d07e66b2",
   "metadata": {},
   "outputs": [
    {
     "data": {
      "text/html": [
       "<div>\n",
       "<style scoped>\n",
       "    .dataframe tbody tr th:only-of-type {\n",
       "        vertical-align: middle;\n",
       "    }\n",
       "\n",
       "    .dataframe tbody tr th {\n",
       "        vertical-align: top;\n",
       "    }\n",
       "\n",
       "    .dataframe thead th {\n",
       "        text-align: right;\n",
       "    }\n",
       "</style>\n",
       "<table border=\"1\" class=\"dataframe\">\n",
       "  <thead>\n",
       "    <tr style=\"text-align: right;\">\n",
       "      <th></th>\n",
       "      <th>id</th>\n",
       "      <th>agent_id</th>\n",
       "      <th>geography_name</th>\n",
       "      <th>subtype</th>\n",
       "      <th>year_of_construction</th>\n",
       "      <th>sq_meters</th>\n",
       "      <th>price</th>\n",
       "      <th>price_per_sq_meter</th>\n",
       "    </tr>\n",
       "  </thead>\n",
       "  <tbody>\n",
       "    <tr>\n",
       "      <th>3066</th>\n",
       "      <td>38894841</td>\n",
       "      <td>10961.000</td>\n",
       "      <td>northern sub</td>\n",
       "      <td>other residential</td>\n",
       "      <td>2002</td>\n",
       "      <td>5530</td>\n",
       "      <td>5500000</td>\n",
       "      <td>994.575</td>\n",
       "    </tr>\n",
       "    <tr>\n",
       "      <th>5579</th>\n",
       "      <td>42420101</td>\n",
       "      <td>11240.000</td>\n",
       "      <td>south beach</td>\n",
       "      <td>other residential</td>\n",
       "      <td>2012</td>\n",
       "      <td>5250</td>\n",
       "      <td>12000000</td>\n",
       "      <td>2285.714</td>\n",
       "    </tr>\n",
       "    <tr>\n",
       "      <th>12080</th>\n",
       "      <td>40443485</td>\n",
       "      <td>9309.000</td>\n",
       "      <td>northern sub</td>\n",
       "      <td>building</td>\n",
       "      <td>2155</td>\n",
       "      <td>3800</td>\n",
       "      <td>7000000</td>\n",
       "      <td>1842.105</td>\n",
       "    </tr>\n",
       "    <tr>\n",
       "      <th>12758</th>\n",
       "      <td>43180452</td>\n",
       "      <td>19079.000</td>\n",
       "      <td>beesy neighborhood</td>\n",
       "      <td>apartment</td>\n",
       "      <td>1961</td>\n",
       "      <td>140000</td>\n",
       "      <td>165000</td>\n",
       "      <td>1.179</td>\n",
       "    </tr>\n",
       "  </tbody>\n",
       "</table>\n",
       "</div>"
      ],
      "text/plain": [
       "             id  agent_id      geography_name            subtype   \n",
       "3066   38894841 10961.000        northern sub  other residential  \\\n",
       "5579   42420101 11240.000         south beach  other residential   \n",
       "12080  40443485  9309.000        northern sub           building   \n",
       "12758  43180452 19079.000  beesy neighborhood          apartment   \n",
       "\n",
       "       year_of_construction  sq_meters     price  price_per_sq_meter  \n",
       "3066                   2002       5530   5500000             994.575  \n",
       "5579                   2012       5250  12000000            2285.714  \n",
       "12080                  2155       3800   7000000            1842.105  \n",
       "12758                  1961     140000    165000               1.179  "
      ]
     },
     "execution_count": 17,
     "metadata": {},
     "output_type": "execute_result"
    }
   ],
   "source": [
    "df1[df1['sq_meters']>3000]"
   ]
  },
  {
   "cell_type": "code",
   "execution_count": 18,
   "id": "6b1fd19d",
   "metadata": {},
   "outputs": [
    {
     "data": {
      "text/html": [
       "<div>\n",
       "<style scoped>\n",
       "    .dataframe tbody tr th:only-of-type {\n",
       "        vertical-align: middle;\n",
       "    }\n",
       "\n",
       "    .dataframe tbody tr th {\n",
       "        vertical-align: top;\n",
       "    }\n",
       "\n",
       "    .dataframe thead th {\n",
       "        text-align: right;\n",
       "    }\n",
       "</style>\n",
       "<table border=\"1\" class=\"dataframe\">\n",
       "  <thead>\n",
       "    <tr style=\"text-align: right;\">\n",
       "      <th></th>\n",
       "      <th>id</th>\n",
       "      <th>agent_id</th>\n",
       "      <th>geography_name</th>\n",
       "      <th>subtype</th>\n",
       "      <th>year_of_construction</th>\n",
       "      <th>sq_meters</th>\n",
       "      <th>price</th>\n",
       "      <th>price_per_sq_meter</th>\n",
       "    </tr>\n",
       "  </thead>\n",
       "  <tbody>\n",
       "    <tr>\n",
       "      <th>9765</th>\n",
       "      <td>42091580</td>\n",
       "      <td>6427.000</td>\n",
       "      <td>beesy neighborhood</td>\n",
       "      <td>studio</td>\n",
       "      <td>2155</td>\n",
       "      <td>14</td>\n",
       "      <td>40000</td>\n",
       "      <td>2857.143</td>\n",
       "    </tr>\n",
       "    <tr>\n",
       "      <th>10700</th>\n",
       "      <td>35421691</td>\n",
       "      <td>5976.000</td>\n",
       "      <td>south beach</td>\n",
       "      <td>maisonette</td>\n",
       "      <td>2008</td>\n",
       "      <td>1</td>\n",
       "      <td>620000</td>\n",
       "      <td>620000.000</td>\n",
       "    </tr>\n",
       "    <tr>\n",
       "      <th>12536</th>\n",
       "      <td>42320237</td>\n",
       "      <td>7355.000</td>\n",
       "      <td>beesy neighborhood</td>\n",
       "      <td>studio</td>\n",
       "      <td>1980</td>\n",
       "      <td>12</td>\n",
       "      <td>21000</td>\n",
       "      <td>1750.000</td>\n",
       "    </tr>\n",
       "    <tr>\n",
       "      <th>12721</th>\n",
       "      <td>43078274</td>\n",
       "      <td>NaN</td>\n",
       "      <td>beesy neighborhood</td>\n",
       "      <td>houseboat</td>\n",
       "      <td>0</td>\n",
       "      <td>10</td>\n",
       "      <td>2500000</td>\n",
       "      <td>250000.000</td>\n",
       "    </tr>\n",
       "  </tbody>\n",
       "</table>\n",
       "</div>"
      ],
      "text/plain": [
       "             id  agent_id      geography_name     subtype   \n",
       "9765   42091580  6427.000  beesy neighborhood      studio  \\\n",
       "10700  35421691  5976.000         south beach  maisonette   \n",
       "12536  42320237  7355.000  beesy neighborhood      studio   \n",
       "12721  43078274       NaN  beesy neighborhood   houseboat   \n",
       "\n",
       "       year_of_construction  sq_meters    price  price_per_sq_meter  \n",
       "9765                   2155         14    40000            2857.143  \n",
       "10700                  2008          1   620000          620000.000  \n",
       "12536                  1980         12    21000            1750.000  \n",
       "12721                     0         10  2500000          250000.000  "
      ]
     },
     "execution_count": 18,
     "metadata": {},
     "output_type": "execute_result"
    }
   ],
   "source": [
    "df1[df1['sq_meters']<15]"
   ]
  },
  {
   "cell_type": "code",
   "execution_count": 19,
   "id": "c87c59c6",
   "metadata": {},
   "outputs": [],
   "source": [
    "unrealistic_sq_meters = np.where(df1['sq_meters'] > 100000, True,\n",
    "                        np.where(df1['sq_meters'] < 12, True, False))"
   ]
  },
  {
   "cell_type": "markdown",
   "id": "7c305191",
   "metadata": {},
   "source": [
    "    "
   ]
  },
  {
   "cell_type": "markdown",
   "id": "8f2c34ee",
   "metadata": {},
   "source": [
    "#### Price"
   ]
  },
  {
   "cell_type": "code",
   "execution_count": 20,
   "id": "ec1d9443",
   "metadata": {},
   "outputs": [
    {
     "data": {
      "text/html": [
       "<div>\n",
       "<style scoped>\n",
       "    .dataframe tbody tr th:only-of-type {\n",
       "        vertical-align: middle;\n",
       "    }\n",
       "\n",
       "    .dataframe tbody tr th {\n",
       "        vertical-align: top;\n",
       "    }\n",
       "\n",
       "    .dataframe thead th {\n",
       "        text-align: right;\n",
       "    }\n",
       "</style>\n",
       "<table border=\"1\" class=\"dataframe\">\n",
       "  <thead>\n",
       "    <tr style=\"text-align: right;\">\n",
       "      <th></th>\n",
       "      <th>id</th>\n",
       "      <th>agent_id</th>\n",
       "      <th>geography_name</th>\n",
       "      <th>subtype</th>\n",
       "      <th>year_of_construction</th>\n",
       "      <th>sq_meters</th>\n",
       "      <th>price</th>\n",
       "      <th>price_per_sq_meter</th>\n",
       "    </tr>\n",
       "  </thead>\n",
       "  <tbody>\n",
       "    <tr>\n",
       "      <th>1223</th>\n",
       "      <td>42617908</td>\n",
       "      <td>19215.000</td>\n",
       "      <td>south beach</td>\n",
       "      <td>other residential</td>\n",
       "      <td>2012</td>\n",
       "      <td>1890</td>\n",
       "      <td>12750000</td>\n",
       "      <td>6746.032</td>\n",
       "    </tr>\n",
       "    <tr>\n",
       "      <th>5579</th>\n",
       "      <td>42420101</td>\n",
       "      <td>11240.000</td>\n",
       "      <td>south beach</td>\n",
       "      <td>other residential</td>\n",
       "      <td>2012</td>\n",
       "      <td>5250</td>\n",
       "      <td>12000000</td>\n",
       "      <td>2285.714</td>\n",
       "    </tr>\n",
       "    <tr>\n",
       "      <th>7425</th>\n",
       "      <td>42344599</td>\n",
       "      <td>12423.000</td>\n",
       "      <td>northern sub</td>\n",
       "      <td>detached</td>\n",
       "      <td>1920</td>\n",
       "      <td>1100</td>\n",
       "      <td>25000000</td>\n",
       "      <td>22727.273</td>\n",
       "    </tr>\n",
       "  </tbody>\n",
       "</table>\n",
       "</div>"
      ],
      "text/plain": [
       "            id  agent_id geography_name            subtype   \n",
       "1223  42617908 19215.000    south beach  other residential  \\\n",
       "5579  42420101 11240.000    south beach  other residential   \n",
       "7425  42344599 12423.000   northern sub           detached   \n",
       "\n",
       "      year_of_construction  sq_meters     price  price_per_sq_meter  \n",
       "1223                  2012       1890  12750000            6746.032  \n",
       "5579                  2012       5250  12000000            2285.714  \n",
       "7425                  1920       1100  25000000           22727.273  "
      ]
     },
     "execution_count": 20,
     "metadata": {},
     "output_type": "execute_result"
    }
   ],
   "source": [
    "df1[df1['price']>10000000]"
   ]
  },
  {
   "cell_type": "code",
   "execution_count": 21,
   "id": "397392ef",
   "metadata": {
    "scrolled": true
   },
   "outputs": [
    {
     "data": {
      "text/html": [
       "<div>\n",
       "<style scoped>\n",
       "    .dataframe tbody tr th:only-of-type {\n",
       "        vertical-align: middle;\n",
       "    }\n",
       "\n",
       "    .dataframe tbody tr th {\n",
       "        vertical-align: top;\n",
       "    }\n",
       "\n",
       "    .dataframe thead th {\n",
       "        text-align: right;\n",
       "    }\n",
       "</style>\n",
       "<table border=\"1\" class=\"dataframe\">\n",
       "  <thead>\n",
       "    <tr style=\"text-align: right;\">\n",
       "      <th></th>\n",
       "      <th>id</th>\n",
       "      <th>agent_id</th>\n",
       "      <th>geography_name</th>\n",
       "      <th>subtype</th>\n",
       "      <th>year_of_construction</th>\n",
       "      <th>sq_meters</th>\n",
       "      <th>price</th>\n",
       "      <th>price_per_sq_meter</th>\n",
       "    </tr>\n",
       "  </thead>\n",
       "  <tbody>\n",
       "    <tr>\n",
       "      <th>551</th>\n",
       "      <td>43447318</td>\n",
       "      <td>18491.000</td>\n",
       "      <td>northern sub</td>\n",
       "      <td>detached</td>\n",
       "      <td>0</td>\n",
       "      <td>270</td>\n",
       "      <td>450</td>\n",
       "      <td>1.667</td>\n",
       "    </tr>\n",
       "    <tr>\n",
       "      <th>2162</th>\n",
       "      <td>43208250</td>\n",
       "      <td>13328.000</td>\n",
       "      <td>south beach</td>\n",
       "      <td>apartment</td>\n",
       "      <td>2019</td>\n",
       "      <td>277</td>\n",
       "      <td>1</td>\n",
       "      <td>0.004</td>\n",
       "    </tr>\n",
       "    <tr>\n",
       "      <th>2220</th>\n",
       "      <td>43028226</td>\n",
       "      <td>13328.000</td>\n",
       "      <td>south beach</td>\n",
       "      <td>apartment</td>\n",
       "      <td>2019</td>\n",
       "      <td>229</td>\n",
       "      <td>1</td>\n",
       "      <td>0.004</td>\n",
       "    </tr>\n",
       "    <tr>\n",
       "      <th>2221</th>\n",
       "      <td>43028230</td>\n",
       "      <td>13328.000</td>\n",
       "      <td>south beach</td>\n",
       "      <td>apartment</td>\n",
       "      <td>2019</td>\n",
       "      <td>231</td>\n",
       "      <td>1</td>\n",
       "      <td>0.004</td>\n",
       "    </tr>\n",
       "    <tr>\n",
       "      <th>2222</th>\n",
       "      <td>43028231</td>\n",
       "      <td>13328.000</td>\n",
       "      <td>south beach</td>\n",
       "      <td>apartment</td>\n",
       "      <td>2019</td>\n",
       "      <td>150</td>\n",
       "      <td>1</td>\n",
       "      <td>0.007</td>\n",
       "    </tr>\n",
       "    <tr>\n",
       "      <th>2223</th>\n",
       "      <td>43028235</td>\n",
       "      <td>13328.000</td>\n",
       "      <td>south beach</td>\n",
       "      <td>apartment</td>\n",
       "      <td>2019</td>\n",
       "      <td>148</td>\n",
       "      <td>1</td>\n",
       "      <td>0.007</td>\n",
       "    </tr>\n",
       "    <tr>\n",
       "      <th>2224</th>\n",
       "      <td>43028243</td>\n",
       "      <td>13328.000</td>\n",
       "      <td>south beach</td>\n",
       "      <td>apartment</td>\n",
       "      <td>2019</td>\n",
       "      <td>148</td>\n",
       "      <td>1</td>\n",
       "      <td>0.007</td>\n",
       "    </tr>\n",
       "    <tr>\n",
       "      <th>2226</th>\n",
       "      <td>43028247</td>\n",
       "      <td>13328.000</td>\n",
       "      <td>south beach</td>\n",
       "      <td>apartment</td>\n",
       "      <td>2019</td>\n",
       "      <td>135</td>\n",
       "      <td>1</td>\n",
       "      <td>0.007</td>\n",
       "    </tr>\n",
       "    <tr>\n",
       "      <th>2227</th>\n",
       "      <td>43028252</td>\n",
       "      <td>13328.000</td>\n",
       "      <td>south beach</td>\n",
       "      <td>apartment</td>\n",
       "      <td>2019</td>\n",
       "      <td>136</td>\n",
       "      <td>1</td>\n",
       "      <td>0.007</td>\n",
       "    </tr>\n",
       "    <tr>\n",
       "      <th>2228</th>\n",
       "      <td>43028253</td>\n",
       "      <td>13328.000</td>\n",
       "      <td>south beach</td>\n",
       "      <td>maisonette</td>\n",
       "      <td>2019</td>\n",
       "      <td>363</td>\n",
       "      <td>1</td>\n",
       "      <td>0.003</td>\n",
       "    </tr>\n",
       "    <tr>\n",
       "      <th>2442</th>\n",
       "      <td>35536120</td>\n",
       "      <td>8244.000</td>\n",
       "      <td>northern sub</td>\n",
       "      <td>detached</td>\n",
       "      <td>1976</td>\n",
       "      <td>300</td>\n",
       "      <td>1</td>\n",
       "      <td>0.003</td>\n",
       "    </tr>\n",
       "    <tr>\n",
       "      <th>2624</th>\n",
       "      <td>39635822</td>\n",
       "      <td>11545.000</td>\n",
       "      <td>northern sub</td>\n",
       "      <td>apartment</td>\n",
       "      <td>2014</td>\n",
       "      <td>230</td>\n",
       "      <td>1</td>\n",
       "      <td>0.004</td>\n",
       "    </tr>\n",
       "    <tr>\n",
       "      <th>3737</th>\n",
       "      <td>38875418</td>\n",
       "      <td>11545.000</td>\n",
       "      <td>northern sub</td>\n",
       "      <td>maisonette</td>\n",
       "      <td>1982</td>\n",
       "      <td>420</td>\n",
       "      <td>1</td>\n",
       "      <td>0.002</td>\n",
       "    </tr>\n",
       "    <tr>\n",
       "      <th>4945</th>\n",
       "      <td>41902424</td>\n",
       "      <td>6976.000</td>\n",
       "      <td>northern sub</td>\n",
       "      <td>apartment</td>\n",
       "      <td>1985</td>\n",
       "      <td>125</td>\n",
       "      <td>1</td>\n",
       "      <td>0.008</td>\n",
       "    </tr>\n",
       "    <tr>\n",
       "      <th>5126</th>\n",
       "      <td>43149324</td>\n",
       "      <td>17559.000</td>\n",
       "      <td>northern sub</td>\n",
       "      <td>detached</td>\n",
       "      <td>0</td>\n",
       "      <td>1100</td>\n",
       "      <td>1</td>\n",
       "      <td>0.001</td>\n",
       "    </tr>\n",
       "    <tr>\n",
       "      <th>5169</th>\n",
       "      <td>38542490</td>\n",
       "      <td>8123.000</td>\n",
       "      <td>northern sub</td>\n",
       "      <td>building</td>\n",
       "      <td>1980</td>\n",
       "      <td>307</td>\n",
       "      <td>0</td>\n",
       "      <td>0.000</td>\n",
       "    </tr>\n",
       "    <tr>\n",
       "      <th>5469</th>\n",
       "      <td>43142564</td>\n",
       "      <td>17559.000</td>\n",
       "      <td>northern sub</td>\n",
       "      <td>detached</td>\n",
       "      <td>1900</td>\n",
       "      <td>240</td>\n",
       "      <td>1</td>\n",
       "      <td>0.004</td>\n",
       "    </tr>\n",
       "    <tr>\n",
       "      <th>5729</th>\n",
       "      <td>36775218</td>\n",
       "      <td>8337.000</td>\n",
       "      <td>south beach</td>\n",
       "      <td>maisonette</td>\n",
       "      <td>2006</td>\n",
       "      <td>330</td>\n",
       "      <td>1</td>\n",
       "      <td>0.003</td>\n",
       "    </tr>\n",
       "    <tr>\n",
       "      <th>5730</th>\n",
       "      <td>36775387</td>\n",
       "      <td>8337.000</td>\n",
       "      <td>south beach</td>\n",
       "      <td>apartment</td>\n",
       "      <td>2004</td>\n",
       "      <td>270</td>\n",
       "      <td>1</td>\n",
       "      <td>0.004</td>\n",
       "    </tr>\n",
       "    <tr>\n",
       "      <th>5811</th>\n",
       "      <td>42879446</td>\n",
       "      <td>18137.000</td>\n",
       "      <td>south beach</td>\n",
       "      <td>apartment</td>\n",
       "      <td>2018</td>\n",
       "      <td>140</td>\n",
       "      <td>1</td>\n",
       "      <td>0.007</td>\n",
       "    </tr>\n",
       "    <tr>\n",
       "      <th>5812</th>\n",
       "      <td>42879447</td>\n",
       "      <td>18137.000</td>\n",
       "      <td>south beach</td>\n",
       "      <td>apartment</td>\n",
       "      <td>2018</td>\n",
       "      <td>155</td>\n",
       "      <td>1</td>\n",
       "      <td>0.006</td>\n",
       "    </tr>\n",
       "    <tr>\n",
       "      <th>6081</th>\n",
       "      <td>39542850</td>\n",
       "      <td>10961.000</td>\n",
       "      <td>northern sub</td>\n",
       "      <td>maisonette</td>\n",
       "      <td>1990</td>\n",
       "      <td>236</td>\n",
       "      <td>1</td>\n",
       "      <td>0.004</td>\n",
       "    </tr>\n",
       "    <tr>\n",
       "      <th>6230</th>\n",
       "      <td>41074350</td>\n",
       "      <td>11545.000</td>\n",
       "      <td>northern sub</td>\n",
       "      <td>apartment</td>\n",
       "      <td>2011</td>\n",
       "      <td>116</td>\n",
       "      <td>1</td>\n",
       "      <td>0.009</td>\n",
       "    </tr>\n",
       "    <tr>\n",
       "      <th>7518</th>\n",
       "      <td>41811890</td>\n",
       "      <td>11404.000</td>\n",
       "      <td>northern sub</td>\n",
       "      <td>detached</td>\n",
       "      <td>1955</td>\n",
       "      <td>270</td>\n",
       "      <td>10</td>\n",
       "      <td>0.037</td>\n",
       "    </tr>\n",
       "    <tr>\n",
       "      <th>8903</th>\n",
       "      <td>42766559</td>\n",
       "      <td>7206.000</td>\n",
       "      <td>south beach</td>\n",
       "      <td>apartment</td>\n",
       "      <td>2019</td>\n",
       "      <td>72</td>\n",
       "      <td>1</td>\n",
       "      <td>0.014</td>\n",
       "    </tr>\n",
       "    <tr>\n",
       "      <th>8904</th>\n",
       "      <td>42766699</td>\n",
       "      <td>7206.000</td>\n",
       "      <td>south beach</td>\n",
       "      <td>apartment</td>\n",
       "      <td>2019</td>\n",
       "      <td>80</td>\n",
       "      <td>1</td>\n",
       "      <td>0.013</td>\n",
       "    </tr>\n",
       "    <tr>\n",
       "      <th>10281</th>\n",
       "      <td>43085675</td>\n",
       "      <td>16840.000</td>\n",
       "      <td>south beach</td>\n",
       "      <td>apartment</td>\n",
       "      <td>2000</td>\n",
       "      <td>75</td>\n",
       "      <td>300</td>\n",
       "      <td>4.000</td>\n",
       "    </tr>\n",
       "    <tr>\n",
       "      <th>10316</th>\n",
       "      <td>43298930</td>\n",
       "      <td>5976.000</td>\n",
       "      <td>south beach</td>\n",
       "      <td>maisonette</td>\n",
       "      <td>2019</td>\n",
       "      <td>277</td>\n",
       "      <td>1</td>\n",
       "      <td>0.004</td>\n",
       "    </tr>\n",
       "    <tr>\n",
       "      <th>10607</th>\n",
       "      <td>43353219</td>\n",
       "      <td>11240.000</td>\n",
       "      <td>south beach</td>\n",
       "      <td>maisonette</td>\n",
       "      <td>2018</td>\n",
       "      <td>143</td>\n",
       "      <td>1</td>\n",
       "      <td>0.007</td>\n",
       "    </tr>\n",
       "    <tr>\n",
       "      <th>10843</th>\n",
       "      <td>43027842</td>\n",
       "      <td>6076.000</td>\n",
       "      <td>south beach</td>\n",
       "      <td>maisonette</td>\n",
       "      <td>2020</td>\n",
       "      <td>244</td>\n",
       "      <td>1</td>\n",
       "      <td>0.004</td>\n",
       "    </tr>\n",
       "    <tr>\n",
       "      <th>10844</th>\n",
       "      <td>43028345</td>\n",
       "      <td>6076.000</td>\n",
       "      <td>south beach</td>\n",
       "      <td>maisonette</td>\n",
       "      <td>2020</td>\n",
       "      <td>214</td>\n",
       "      <td>1</td>\n",
       "      <td>0.005</td>\n",
       "    </tr>\n",
       "    <tr>\n",
       "      <th>11461</th>\n",
       "      <td>41850251</td>\n",
       "      <td>9206.000</td>\n",
       "      <td>south beach</td>\n",
       "      <td>apartment</td>\n",
       "      <td>2018</td>\n",
       "      <td>265</td>\n",
       "      <td>1</td>\n",
       "      <td>0.004</td>\n",
       "    </tr>\n",
       "    <tr>\n",
       "      <th>11594</th>\n",
       "      <td>43083692</td>\n",
       "      <td>18233.000</td>\n",
       "      <td>northern sub</td>\n",
       "      <td>apartment</td>\n",
       "      <td>2003</td>\n",
       "      <td>106</td>\n",
       "      <td>900</td>\n",
       "      <td>8.491</td>\n",
       "    </tr>\n",
       "    <tr>\n",
       "      <th>11820</th>\n",
       "      <td>42216487</td>\n",
       "      <td>8233.000</td>\n",
       "      <td>northern sub</td>\n",
       "      <td>apartment</td>\n",
       "      <td>1994</td>\n",
       "      <td>215</td>\n",
       "      <td>1</td>\n",
       "      <td>0.005</td>\n",
       "    </tr>\n",
       "    <tr>\n",
       "      <th>12439</th>\n",
       "      <td>42073009</td>\n",
       "      <td>6839.000</td>\n",
       "      <td>northern sub</td>\n",
       "      <td>apartment</td>\n",
       "      <td>2017</td>\n",
       "      <td>270</td>\n",
       "      <td>1</td>\n",
       "      <td>0.004</td>\n",
       "    </tr>\n",
       "    <tr>\n",
       "      <th>12581</th>\n",
       "      <td>43459417</td>\n",
       "      <td>12306.000</td>\n",
       "      <td>beesy neighborhood</td>\n",
       "      <td>apartment</td>\n",
       "      <td>1965</td>\n",
       "      <td>34</td>\n",
       "      <td>300</td>\n",
       "      <td>8.824</td>\n",
       "    </tr>\n",
       "    <tr>\n",
       "      <th>13273</th>\n",
       "      <td>42038066</td>\n",
       "      <td>10374.000</td>\n",
       "      <td>south beach</td>\n",
       "      <td>apartment complex</td>\n",
       "      <td>2015</td>\n",
       "      <td>500</td>\n",
       "      <td>1</td>\n",
       "      <td>0.002</td>\n",
       "    </tr>\n",
       "    <tr>\n",
       "      <th>13952</th>\n",
       "      <td>43181870</td>\n",
       "      <td>9942.000</td>\n",
       "      <td>beesy neighborhood</td>\n",
       "      <td>apartment</td>\n",
       "      <td>1990</td>\n",
       "      <td>900</td>\n",
       "      <td>1</td>\n",
       "      <td>0.001</td>\n",
       "    </tr>\n",
       "    <tr>\n",
       "      <th>15182</th>\n",
       "      <td>38569709</td>\n",
       "      <td>12946.000</td>\n",
       "      <td>beesy neighborhood</td>\n",
       "      <td>apartment</td>\n",
       "      <td>1968</td>\n",
       "      <td>72</td>\n",
       "      <td>0</td>\n",
       "      <td>0.000</td>\n",
       "    </tr>\n",
       "  </tbody>\n",
       "</table>\n",
       "</div>"
      ],
      "text/plain": [
       "             id  agent_id      geography_name            subtype   \n",
       "551    43447318 18491.000        northern sub           detached  \\\n",
       "2162   43208250 13328.000         south beach          apartment   \n",
       "2220   43028226 13328.000         south beach          apartment   \n",
       "2221   43028230 13328.000         south beach          apartment   \n",
       "2222   43028231 13328.000         south beach          apartment   \n",
       "2223   43028235 13328.000         south beach          apartment   \n",
       "2224   43028243 13328.000         south beach          apartment   \n",
       "2226   43028247 13328.000         south beach          apartment   \n",
       "2227   43028252 13328.000         south beach          apartment   \n",
       "2228   43028253 13328.000         south beach         maisonette   \n",
       "2442   35536120  8244.000        northern sub           detached   \n",
       "2624   39635822 11545.000        northern sub          apartment   \n",
       "3737   38875418 11545.000        northern sub         maisonette   \n",
       "4945   41902424  6976.000        northern sub          apartment   \n",
       "5126   43149324 17559.000        northern sub           detached   \n",
       "5169   38542490  8123.000        northern sub           building   \n",
       "5469   43142564 17559.000        northern sub           detached   \n",
       "5729   36775218  8337.000         south beach         maisonette   \n",
       "5730   36775387  8337.000         south beach          apartment   \n",
       "5811   42879446 18137.000         south beach          apartment   \n",
       "5812   42879447 18137.000         south beach          apartment   \n",
       "6081   39542850 10961.000        northern sub         maisonette   \n",
       "6230   41074350 11545.000        northern sub          apartment   \n",
       "7518   41811890 11404.000        northern sub           detached   \n",
       "8903   42766559  7206.000         south beach          apartment   \n",
       "8904   42766699  7206.000         south beach          apartment   \n",
       "10281  43085675 16840.000         south beach          apartment   \n",
       "10316  43298930  5976.000         south beach         maisonette   \n",
       "10607  43353219 11240.000         south beach         maisonette   \n",
       "10843  43027842  6076.000         south beach         maisonette   \n",
       "10844  43028345  6076.000         south beach         maisonette   \n",
       "11461  41850251  9206.000         south beach          apartment   \n",
       "11594  43083692 18233.000        northern sub          apartment   \n",
       "11820  42216487  8233.000        northern sub          apartment   \n",
       "12439  42073009  6839.000        northern sub          apartment   \n",
       "12581  43459417 12306.000  beesy neighborhood          apartment   \n",
       "13273  42038066 10374.000         south beach  apartment complex   \n",
       "13952  43181870  9942.000  beesy neighborhood          apartment   \n",
       "15182  38569709 12946.000  beesy neighborhood          apartment   \n",
       "\n",
       "       year_of_construction  sq_meters  price  price_per_sq_meter  \n",
       "551                       0        270    450               1.667  \n",
       "2162                   2019        277      1               0.004  \n",
       "2220                   2019        229      1               0.004  \n",
       "2221                   2019        231      1               0.004  \n",
       "2222                   2019        150      1               0.007  \n",
       "2223                   2019        148      1               0.007  \n",
       "2224                   2019        148      1               0.007  \n",
       "2226                   2019        135      1               0.007  \n",
       "2227                   2019        136      1               0.007  \n",
       "2228                   2019        363      1               0.003  \n",
       "2442                   1976        300      1               0.003  \n",
       "2624                   2014        230      1               0.004  \n",
       "3737                   1982        420      1               0.002  \n",
       "4945                   1985        125      1               0.008  \n",
       "5126                      0       1100      1               0.001  \n",
       "5169                   1980        307      0               0.000  \n",
       "5469                   1900        240      1               0.004  \n",
       "5729                   2006        330      1               0.003  \n",
       "5730                   2004        270      1               0.004  \n",
       "5811                   2018        140      1               0.007  \n",
       "5812                   2018        155      1               0.006  \n",
       "6081                   1990        236      1               0.004  \n",
       "6230                   2011        116      1               0.009  \n",
       "7518                   1955        270     10               0.037  \n",
       "8903                   2019         72      1               0.014  \n",
       "8904                   2019         80      1               0.013  \n",
       "10281                  2000         75    300               4.000  \n",
       "10316                  2019        277      1               0.004  \n",
       "10607                  2018        143      1               0.007  \n",
       "10843                  2020        244      1               0.004  \n",
       "10844                  2020        214      1               0.005  \n",
       "11461                  2018        265      1               0.004  \n",
       "11594                  2003        106    900               8.491  \n",
       "11820                  1994        215      1               0.005  \n",
       "12439                  2017        270      1               0.004  \n",
       "12581                  1965         34    300               8.824  \n",
       "13273                  2015        500      1               0.002  \n",
       "13952                  1990        900      1               0.001  \n",
       "15182                  1968         72      0               0.000  "
      ]
     },
     "execution_count": 21,
     "metadata": {},
     "output_type": "execute_result"
    }
   ],
   "source": [
    "df1[df1['price']<8000]"
   ]
  },
  {
   "cell_type": "code",
   "execution_count": 22,
   "id": "4b2f18ac",
   "metadata": {},
   "outputs": [],
   "source": [
    "unrealistic_price = np.where(df1['price'] > 30000000, True,\n",
    "                        np.where(df1['price'] < 8000, True, False))"
   ]
  },
  {
   "cell_type": "markdown",
   "id": "825d7a3d",
   "metadata": {},
   "source": [
    "    "
   ]
  },
  {
   "cell_type": "markdown",
   "id": "f881358d",
   "metadata": {},
   "source": [
    "#### Price per square meter"
   ]
  },
  {
   "cell_type": "code",
   "execution_count": 23,
   "id": "6926622c",
   "metadata": {},
   "outputs": [
    {
     "data": {
      "text/html": [
       "<div>\n",
       "<style scoped>\n",
       "    .dataframe tbody tr th:only-of-type {\n",
       "        vertical-align: middle;\n",
       "    }\n",
       "\n",
       "    .dataframe tbody tr th {\n",
       "        vertical-align: top;\n",
       "    }\n",
       "\n",
       "    .dataframe thead th {\n",
       "        text-align: right;\n",
       "    }\n",
       "</style>\n",
       "<table border=\"1\" class=\"dataframe\">\n",
       "  <thead>\n",
       "    <tr style=\"text-align: right;\">\n",
       "      <th></th>\n",
       "      <th>id</th>\n",
       "      <th>agent_id</th>\n",
       "      <th>geography_name</th>\n",
       "      <th>subtype</th>\n",
       "      <th>year_of_construction</th>\n",
       "      <th>sq_meters</th>\n",
       "      <th>price</th>\n",
       "      <th>price_per_sq_meter</th>\n",
       "    </tr>\n",
       "  </thead>\n",
       "  <tbody>\n",
       "    <tr>\n",
       "      <th>7425</th>\n",
       "      <td>42344599</td>\n",
       "      <td>12423.000</td>\n",
       "      <td>northern sub</td>\n",
       "      <td>detached</td>\n",
       "      <td>1920</td>\n",
       "      <td>1100</td>\n",
       "      <td>25000000</td>\n",
       "      <td>22727.273</td>\n",
       "    </tr>\n",
       "    <tr>\n",
       "      <th>10700</th>\n",
       "      <td>35421691</td>\n",
       "      <td>5976.000</td>\n",
       "      <td>south beach</td>\n",
       "      <td>maisonette</td>\n",
       "      <td>2008</td>\n",
       "      <td>1</td>\n",
       "      <td>620000</td>\n",
       "      <td>620000.000</td>\n",
       "    </tr>\n",
       "    <tr>\n",
       "      <th>11779</th>\n",
       "      <td>41449891</td>\n",
       "      <td>9619.000</td>\n",
       "      <td>northern sub</td>\n",
       "      <td>detached</td>\n",
       "      <td>1910</td>\n",
       "      <td>327</td>\n",
       "      <td>8000000</td>\n",
       "      <td>24464.832</td>\n",
       "    </tr>\n",
       "    <tr>\n",
       "      <th>12721</th>\n",
       "      <td>43078274</td>\n",
       "      <td>NaN</td>\n",
       "      <td>beesy neighborhood</td>\n",
       "      <td>houseboat</td>\n",
       "      <td>0</td>\n",
       "      <td>10</td>\n",
       "      <td>2500000</td>\n",
       "      <td>250000.000</td>\n",
       "    </tr>\n",
       "  </tbody>\n",
       "</table>\n",
       "</div>"
      ],
      "text/plain": [
       "             id  agent_id      geography_name     subtype   \n",
       "7425   42344599 12423.000        northern sub    detached  \\\n",
       "10700  35421691  5976.000         south beach  maisonette   \n",
       "11779  41449891  9619.000        northern sub    detached   \n",
       "12721  43078274       NaN  beesy neighborhood   houseboat   \n",
       "\n",
       "       year_of_construction  sq_meters     price  price_per_sq_meter  \n",
       "7425                   1920       1100  25000000           22727.273  \n",
       "10700                  2008          1    620000          620000.000  \n",
       "11779                  1910        327   8000000           24464.832  \n",
       "12721                     0         10   2500000          250000.000  "
      ]
     },
     "execution_count": 23,
     "metadata": {},
     "output_type": "execute_result"
    }
   ],
   "source": [
    "df1[df1['price_per_sq_meter']>20000]"
   ]
  },
  {
   "cell_type": "code",
   "execution_count": 24,
   "id": "86c1caa4",
   "metadata": {},
   "outputs": [
    {
     "data": {
      "text/html": [
       "<div>\n",
       "<style scoped>\n",
       "    .dataframe tbody tr th:only-of-type {\n",
       "        vertical-align: middle;\n",
       "    }\n",
       "\n",
       "    .dataframe tbody tr th {\n",
       "        vertical-align: top;\n",
       "    }\n",
       "\n",
       "    .dataframe thead th {\n",
       "        text-align: right;\n",
       "    }\n",
       "</style>\n",
       "<table border=\"1\" class=\"dataframe\">\n",
       "  <thead>\n",
       "    <tr style=\"text-align: right;\">\n",
       "      <th></th>\n",
       "      <th>id</th>\n",
       "      <th>agent_id</th>\n",
       "      <th>geography_name</th>\n",
       "      <th>subtype</th>\n",
       "      <th>year_of_construction</th>\n",
       "      <th>sq_meters</th>\n",
       "      <th>price</th>\n",
       "      <th>price_per_sq_meter</th>\n",
       "    </tr>\n",
       "  </thead>\n",
       "  <tbody>\n",
       "    <tr>\n",
       "      <th>551</th>\n",
       "      <td>43447318</td>\n",
       "      <td>18491.000</td>\n",
       "      <td>northern sub</td>\n",
       "      <td>detached</td>\n",
       "      <td>0</td>\n",
       "      <td>270</td>\n",
       "      <td>450</td>\n",
       "      <td>1.667</td>\n",
       "    </tr>\n",
       "    <tr>\n",
       "      <th>2162</th>\n",
       "      <td>43208250</td>\n",
       "      <td>13328.000</td>\n",
       "      <td>south beach</td>\n",
       "      <td>apartment</td>\n",
       "      <td>2019</td>\n",
       "      <td>277</td>\n",
       "      <td>1</td>\n",
       "      <td>0.004</td>\n",
       "    </tr>\n",
       "    <tr>\n",
       "      <th>2220</th>\n",
       "      <td>43028226</td>\n",
       "      <td>13328.000</td>\n",
       "      <td>south beach</td>\n",
       "      <td>apartment</td>\n",
       "      <td>2019</td>\n",
       "      <td>229</td>\n",
       "      <td>1</td>\n",
       "      <td>0.004</td>\n",
       "    </tr>\n",
       "    <tr>\n",
       "      <th>2221</th>\n",
       "      <td>43028230</td>\n",
       "      <td>13328.000</td>\n",
       "      <td>south beach</td>\n",
       "      <td>apartment</td>\n",
       "      <td>2019</td>\n",
       "      <td>231</td>\n",
       "      <td>1</td>\n",
       "      <td>0.004</td>\n",
       "    </tr>\n",
       "    <tr>\n",
       "      <th>2222</th>\n",
       "      <td>43028231</td>\n",
       "      <td>13328.000</td>\n",
       "      <td>south beach</td>\n",
       "      <td>apartment</td>\n",
       "      <td>2019</td>\n",
       "      <td>150</td>\n",
       "      <td>1</td>\n",
       "      <td>0.007</td>\n",
       "    </tr>\n",
       "  </tbody>\n",
       "</table>\n",
       "</div>"
      ],
      "text/plain": [
       "            id  agent_id geography_name    subtype  year_of_construction   \n",
       "551   43447318 18491.000   northern sub   detached                     0  \\\n",
       "2162  43208250 13328.000    south beach  apartment                  2019   \n",
       "2220  43028226 13328.000    south beach  apartment                  2019   \n",
       "2221  43028230 13328.000    south beach  apartment                  2019   \n",
       "2222  43028231 13328.000    south beach  apartment                  2019   \n",
       "\n",
       "      sq_meters  price  price_per_sq_meter  \n",
       "551         270    450               1.667  \n",
       "2162        277      1               0.004  \n",
       "2220        229      1               0.004  \n",
       "2221        231      1               0.004  \n",
       "2222        150      1               0.007  "
      ]
     },
     "execution_count": 24,
     "metadata": {},
     "output_type": "execute_result"
    }
   ],
   "source": [
    "df1[df1['price_per_sq_meter']<4].head()"
   ]
  },
  {
   "cell_type": "code",
   "execution_count": 25,
   "id": "fc260569",
   "metadata": {},
   "outputs": [],
   "source": [
    "unrealistic_price_per_sq_meters = np.where(df1['price_per_sq_meter'] >= 250000, True,\n",
    "                                  np.where(df1['price_per_sq_meter'] < 4, True, False))"
   ]
  },
  {
   "cell_type": "markdown",
   "id": "0bd61dfa",
   "metadata": {},
   "source": [
    "    "
   ]
  },
  {
   "cell_type": "markdown",
   "id": "84ef5ad4",
   "metadata": {},
   "source": [
    "    "
   ]
  },
  {
   "cell_type": "markdown",
   "id": "3ffe952b",
   "metadata": {},
   "source": [
    "### Apply the first trimming/deletion of unrealistic values"
   ]
  },
  {
   "cell_type": "code",
   "execution_count": 26,
   "id": "e380e191",
   "metadata": {},
   "outputs": [
    {
     "name": "stdout",
     "output_type": "stream",
     "text": [
      "Rows deleted: 42\n"
     ]
    }
   ],
   "source": [
    "# We trim the dataframe from all the unrealistic values as defined above: \n",
    "\n",
    "df1_trimmed = df1.loc[~(unrealistic_price + unrealistic_price + unrealistic_price_per_sq_meters)].copy()\n",
    "\n",
    "print(f\"Rows deleted: {df1.shape[0]-df1_trimmed.shape[0]}\")"
   ]
  },
  {
   "cell_type": "markdown",
   "id": "1c8681c3",
   "metadata": {},
   "source": [
    "    "
   ]
  },
  {
   "cell_type": "markdown",
   "id": "79d5d2ec",
   "metadata": {},
   "source": [
    "#### A summary of some Unrealistic values"
   ]
  },
  {
   "cell_type": "markdown",
   "id": "e07dcb25",
   "metadata": {},
   "source": [
    "Here are some of the unrealistic findings:\n",
    "\n",
    "- houses with a price equal to 0 or 1\n",
    "- a maisonette of 1 sq_meter for a price of 620,000\n",
    "- a houseboat of 10 sq_meters for a price of 2,500,000\n",
    "- a deteached house of 1100 sq_meters for a price of 25,000,000\n",
    "- an apartment of 140,000 sq_meters for a price of 165,000"
   ]
  },
  {
   "cell_type": "code",
   "execution_count": 27,
   "id": "567ebfc9",
   "metadata": {},
   "outputs": [
    {
     "data": {
      "text/html": [
       "<div>\n",
       "<style scoped>\n",
       "    .dataframe tbody tr th:only-of-type {\n",
       "        vertical-align: middle;\n",
       "    }\n",
       "\n",
       "    .dataframe tbody tr th {\n",
       "        vertical-align: top;\n",
       "    }\n",
       "\n",
       "    .dataframe thead th {\n",
       "        text-align: right;\n",
       "    }\n",
       "</style>\n",
       "<table border=\"1\" class=\"dataframe\">\n",
       "  <thead>\n",
       "    <tr style=\"text-align: right;\">\n",
       "      <th></th>\n",
       "      <th>id</th>\n",
       "      <th>agent_id</th>\n",
       "      <th>geography_name</th>\n",
       "      <th>subtype</th>\n",
       "      <th>year_of_construction</th>\n",
       "      <th>sq_meters</th>\n",
       "      <th>price</th>\n",
       "      <th>price_per_sq_meter</th>\n",
       "    </tr>\n",
       "  </thead>\n",
       "  <tbody>\n",
       "    <tr>\n",
       "      <th>5169</th>\n",
       "      <td>38542490</td>\n",
       "      <td>8123.000</td>\n",
       "      <td>northern sub</td>\n",
       "      <td>building</td>\n",
       "      <td>1980</td>\n",
       "      <td>307</td>\n",
       "      <td>0</td>\n",
       "      <td>0.000</td>\n",
       "    </tr>\n",
       "    <tr>\n",
       "      <th>12721</th>\n",
       "      <td>43078274</td>\n",
       "      <td>NaN</td>\n",
       "      <td>beesy neighborhood</td>\n",
       "      <td>houseboat</td>\n",
       "      <td>0</td>\n",
       "      <td>10</td>\n",
       "      <td>2500000</td>\n",
       "      <td>250000.000</td>\n",
       "    </tr>\n",
       "    <tr>\n",
       "      <th>12758</th>\n",
       "      <td>43180452</td>\n",
       "      <td>19079.000</td>\n",
       "      <td>beesy neighborhood</td>\n",
       "      <td>apartment</td>\n",
       "      <td>1961</td>\n",
       "      <td>140000</td>\n",
       "      <td>165000</td>\n",
       "      <td>1.179</td>\n",
       "    </tr>\n",
       "  </tbody>\n",
       "</table>\n",
       "</div>"
      ],
      "text/plain": [
       "             id  agent_id      geography_name    subtype   \n",
       "5169   38542490  8123.000        northern sub   building  \\\n",
       "12721  43078274       NaN  beesy neighborhood  houseboat   \n",
       "12758  43180452 19079.000  beesy neighborhood  apartment   \n",
       "\n",
       "       year_of_construction  sq_meters    price  price_per_sq_meter  \n",
       "5169                   1980        307        0               0.000  \n",
       "12721                     0         10  2500000          250000.000  \n",
       "12758                  1961     140000   165000               1.179  "
      ]
     },
     "execution_count": 27,
     "metadata": {},
     "output_type": "execute_result"
    }
   ],
   "source": [
    "ids_unrealistic = [38542490, 3856970, 43078274, 43180452]\n",
    "df1[np.isin(df1['id'], ids_unrealistic)]"
   ]
  },
  {
   "cell_type": "markdown",
   "id": "d52ec579",
   "metadata": {},
   "source": [
    "    "
   ]
  },
  {
   "cell_type": "markdown",
   "id": "d48a8b2c",
   "metadata": {},
   "source": [
    "    "
   ]
  },
  {
   "cell_type": "markdown",
   "id": "c63420e3",
   "metadata": {},
   "source": [
    "For the purpose of Question 01, we only removed the Outliers that we considered to be Unrealistic values, and  probably were mistyped into the dataset. There are still Outliers (as we see from the following plots), which are reasonable (in a sense) and very probably refer to real houses, and thus we choose to keep them for the demonstration reasons of Question 01. \n",
    "\n",
    "It may be the case though that for Question 03 we further treat the existing outliers, depending on the model to be chosen, in order to comply with its assumptions and to improve its predictive performance. "
   ]
  },
  {
   "cell_type": "code",
   "execution_count": 28,
   "id": "596f0638",
   "metadata": {},
   "outputs": [
    {
     "data": {
      "image/png": "[encoded data removed]",
      "text/plain": [
       "<Figure size 1600x400 with 3 Axes>"
      ]
     },
     "metadata": {},
     "output_type": "display_data"
    }
   ],
   "source": [
    "diagnostic_plots(df1_trimmed, 'price')"
   ]
  },
  {
   "cell_type": "code",
   "execution_count": 29,
   "id": "a0f24f7e",
   "metadata": {},
   "outputs": [
    {
     "data": {
      "image/png": "[encoded data removed]",
      "text/plain": [
       "<Figure size 1600x400 with 3 Axes>"
      ]
     },
     "metadata": {},
     "output_type": "display_data"
    }
   ],
   "source": [
    "diagnostic_plots(df1_trimmed, 'sq_meters')"
   ]
  },
  {
   "cell_type": "code",
   "execution_count": 30,
   "id": "2799df49",
   "metadata": {},
   "outputs": [
    {
     "data": {
      "image/png": "[encoded data removed]",
      "text/plain": [
       "<Figure size 1600x400 with 3 Axes>"
      ]
     },
     "metadata": {},
     "output_type": "display_data"
    }
   ],
   "source": [
    "diagnostic_plots(df1_trimmed, 'price_per_sq_meter')"
   ]
  },
  {
   "cell_type": "markdown",
   "id": "fbe38b26",
   "metadata": {},
   "source": [
    "    "
   ]
  },
  {
   "cell_type": "markdown",
   "id": "f2e7e7d1",
   "metadata": {},
   "source": [
    "    "
   ]
  },
  {
   "cell_type": "markdown",
   "id": "30a81019",
   "metadata": {},
   "source": [
    "### Answer for Question 01"
   ]
  },
  {
   "cell_type": "code",
   "execution_count": 31,
   "id": "b0b88529",
   "metadata": {},
   "outputs": [
    {
     "data": {
      "text/html": [
       "<div>\n",
       "<style scoped>\n",
       "    .dataframe tbody tr th:only-of-type {\n",
       "        vertical-align: middle;\n",
       "    }\n",
       "\n",
       "    .dataframe tbody tr th {\n",
       "        vertical-align: top;\n",
       "    }\n",
       "\n",
       "    .dataframe thead th {\n",
       "        text-align: right;\n",
       "    }\n",
       "</style>\n",
       "<table border=\"1\" class=\"dataframe\">\n",
       "  <thead>\n",
       "    <tr style=\"text-align: right;\">\n",
       "      <th></th>\n",
       "      <th></th>\n",
       "      <th>min</th>\n",
       "      <th>max</th>\n",
       "      <th>mean</th>\n",
       "      <th>median</th>\n",
       "      <th>std</th>\n",
       "    </tr>\n",
       "    <tr>\n",
       "      <th>geography_name</th>\n",
       "      <th>subtype</th>\n",
       "      <th></th>\n",
       "      <th></th>\n",
       "      <th></th>\n",
       "      <th></th>\n",
       "      <th></th>\n",
       "    </tr>\n",
       "  </thead>\n",
       "  <tbody>\n",
       "    <tr>\n",
       "      <th rowspan=\"7\" valign=\"top\">beesy neighborhood</th>\n",
       "      <th>apartment</th>\n",
       "      <td>222.000</td>\n",
       "      <td>3958.000</td>\n",
       "      <td>1282.000</td>\n",
       "      <td>1133.000</td>\n",
       "      <td>508.000</td>\n",
       "    </tr>\n",
       "    <tr>\n",
       "      <th>apartment complex</th>\n",
       "      <td>600.000</td>\n",
       "      <td>1571.000</td>\n",
       "      <td>1154.000</td>\n",
       "      <td>1184.000</td>\n",
       "      <td>404.000</td>\n",
       "    </tr>\n",
       "    <tr>\n",
       "      <th>building</th>\n",
       "      <td>556.000</td>\n",
       "      <td>3942.000</td>\n",
       "      <td>1095.000</td>\n",
       "      <td>995.000</td>\n",
       "      <td>430.000</td>\n",
       "    </tr>\n",
       "    <tr>\n",
       "      <th>detached</th>\n",
       "      <td>429.000</td>\n",
       "      <td>5405.000</td>\n",
       "      <td>1446.000</td>\n",
       "      <td>1255.000</td>\n",
       "      <td>727.000</td>\n",
       "    </tr>\n",
       "    <tr>\n",
       "      <th>maisonette</th>\n",
       "      <td>806.000</td>\n",
       "      <td>4688.000</td>\n",
       "      <td>1858.000</td>\n",
       "      <td>1667.000</td>\n",
       "      <td>795.000</td>\n",
       "    </tr>\n",
       "    <tr>\n",
       "      <th>other residential</th>\n",
       "      <td>196.000</td>\n",
       "      <td>4302.000</td>\n",
       "      <td>1313.000</td>\n",
       "      <td>1206.000</td>\n",
       "      <td>817.000</td>\n",
       "    </tr>\n",
       "    <tr>\n",
       "      <th>studio</th>\n",
       "      <td>258.000</td>\n",
       "      <td>3200.000</td>\n",
       "      <td>1090.000</td>\n",
       "      <td>1000.000</td>\n",
       "      <td>610.000</td>\n",
       "    </tr>\n",
       "    <tr>\n",
       "      <th rowspan=\"8\" valign=\"top\">gentrification area</th>\n",
       "      <th>apartment</th>\n",
       "      <td>625.000</td>\n",
       "      <td>7018.000</td>\n",
       "      <td>2619.000</td>\n",
       "      <td>2500.000</td>\n",
       "      <td>807.000</td>\n",
       "    </tr>\n",
       "    <tr>\n",
       "      <th>apartment complex</th>\n",
       "      <td>3202.000</td>\n",
       "      <td>3247.000</td>\n",
       "      <td>3225.000</td>\n",
       "      <td>3225.000</td>\n",
       "      <td>31.000</td>\n",
       "    </tr>\n",
       "    <tr>\n",
       "      <th>building</th>\n",
       "      <td>1261.000</td>\n",
       "      <td>9333.000</td>\n",
       "      <td>2957.000</td>\n",
       "      <td>2412.000</td>\n",
       "      <td>1749.000</td>\n",
       "    </tr>\n",
       "    <tr>\n",
       "      <th>detached</th>\n",
       "      <td>857.000</td>\n",
       "      <td>8800.000</td>\n",
       "      <td>2956.000</td>\n",
       "      <td>2713.000</td>\n",
       "      <td>1419.000</td>\n",
       "    </tr>\n",
       "    <tr>\n",
       "      <th>loft</th>\n",
       "      <td>2436.000</td>\n",
       "      <td>2436.000</td>\n",
       "      <td>2436.000</td>\n",
       "      <td>2436.000</td>\n",
       "      <td>NaN</td>\n",
       "    </tr>\n",
       "    <tr>\n",
       "      <th>maisonette</th>\n",
       "      <td>1864.000</td>\n",
       "      <td>3929.000</td>\n",
       "      <td>2621.000</td>\n",
       "      <td>2286.000</td>\n",
       "      <td>654.000</td>\n",
       "    </tr>\n",
       "    <tr>\n",
       "      <th>other residential</th>\n",
       "      <td>1846.000</td>\n",
       "      <td>3400.000</td>\n",
       "      <td>2377.000</td>\n",
       "      <td>2314.000</td>\n",
       "      <td>536.000</td>\n",
       "    </tr>\n",
       "    <tr>\n",
       "      <th>studio</th>\n",
       "      <td>833.000</td>\n",
       "      <td>4167.000</td>\n",
       "      <td>2263.000</td>\n",
       "      <td>2250.000</td>\n",
       "      <td>808.000</td>\n",
       "    </tr>\n",
       "    <tr>\n",
       "      <th rowspan=\"8\" valign=\"top\">northern sub</th>\n",
       "      <th>apartment</th>\n",
       "      <td>353.000</td>\n",
       "      <td>9960.000</td>\n",
       "      <td>2811.000</td>\n",
       "      <td>2500.000</td>\n",
       "      <td>1219.000</td>\n",
       "    </tr>\n",
       "    <tr>\n",
       "      <th>apartment complex</th>\n",
       "      <td>1263.000</td>\n",
       "      <td>6250.000</td>\n",
       "      <td>3348.000</td>\n",
       "      <td>3115.000</td>\n",
       "      <td>1588.000</td>\n",
       "    </tr>\n",
       "    <tr>\n",
       "      <th>building</th>\n",
       "      <td>317.000</td>\n",
       "      <td>8021.000</td>\n",
       "      <td>2689.000</td>\n",
       "      <td>2166.000</td>\n",
       "      <td>1648.000</td>\n",
       "    </tr>\n",
       "    <tr>\n",
       "      <th>detached</th>\n",
       "      <td>250.000</td>\n",
       "      <td>24465.000</td>\n",
       "      <td>3002.000</td>\n",
       "      <td>2500.000</td>\n",
       "      <td>1972.000</td>\n",
       "    </tr>\n",
       "    <tr>\n",
       "      <th>maisonette</th>\n",
       "      <td>800.000</td>\n",
       "      <td>8368.000</td>\n",
       "      <td>2548.000</td>\n",
       "      <td>2257.000</td>\n",
       "      <td>997.000</td>\n",
       "    </tr>\n",
       "    <tr>\n",
       "      <th>other residential</th>\n",
       "      <td>995.000</td>\n",
       "      <td>11765.000</td>\n",
       "      <td>3584.000</td>\n",
       "      <td>2750.000</td>\n",
       "      <td>2541.000</td>\n",
       "    </tr>\n",
       "    <tr>\n",
       "      <th>studio</th>\n",
       "      <td>1622.000</td>\n",
       "      <td>2000.000</td>\n",
       "      <td>1905.000</td>\n",
       "      <td>2000.000</td>\n",
       "      <td>164.000</td>\n",
       "    </tr>\n",
       "    <tr>\n",
       "      <th>villa</th>\n",
       "      <td>1000.000</td>\n",
       "      <td>14706.000</td>\n",
       "      <td>3357.000</td>\n",
       "      <td>2518.000</td>\n",
       "      <td>2518.000</td>\n",
       "    </tr>\n",
       "    <tr>\n",
       "      <th rowspan=\"10\" valign=\"top\">south beach</th>\n",
       "      <th>apartment</th>\n",
       "      <td>755.000</td>\n",
       "      <td>18261.000</td>\n",
       "      <td>3508.000</td>\n",
       "      <td>3200.000</td>\n",
       "      <td>1314.000</td>\n",
       "    </tr>\n",
       "    <tr>\n",
       "      <th>apartment complex</th>\n",
       "      <td>1176.000</td>\n",
       "      <td>5017.000</td>\n",
       "      <td>2430.000</td>\n",
       "      <td>2195.000</td>\n",
       "      <td>1050.000</td>\n",
       "    </tr>\n",
       "    <tr>\n",
       "      <th>building</th>\n",
       "      <td>818.000</td>\n",
       "      <td>7500.000</td>\n",
       "      <td>2664.000</td>\n",
       "      <td>2167.000</td>\n",
       "      <td>1356.000</td>\n",
       "    </tr>\n",
       "    <tr>\n",
       "      <th>bungalow</th>\n",
       "      <td>2167.000</td>\n",
       "      <td>2267.000</td>\n",
       "      <td>2217.000</td>\n",
       "      <td>2217.000</td>\n",
       "      <td>71.000</td>\n",
       "    </tr>\n",
       "    <tr>\n",
       "      <th>detached</th>\n",
       "      <td>967.000</td>\n",
       "      <td>16667.000</td>\n",
       "      <td>3406.000</td>\n",
       "      <td>2857.000</td>\n",
       "      <td>2042.000</td>\n",
       "    </tr>\n",
       "    <tr>\n",
       "      <th>loft</th>\n",
       "      <td>2326.000</td>\n",
       "      <td>6211.000</td>\n",
       "      <td>4113.000</td>\n",
       "      <td>4457.000</td>\n",
       "      <td>1269.000</td>\n",
       "    </tr>\n",
       "    <tr>\n",
       "      <th>maisonette</th>\n",
       "      <td>850.000</td>\n",
       "      <td>10417.000</td>\n",
       "      <td>4166.000</td>\n",
       "      <td>3929.000</td>\n",
       "      <td>1771.000</td>\n",
       "    </tr>\n",
       "    <tr>\n",
       "      <th>other residential</th>\n",
       "      <td>1111.000</td>\n",
       "      <td>6746.000</td>\n",
       "      <td>3411.000</td>\n",
       "      <td>3086.000</td>\n",
       "      <td>1462.000</td>\n",
       "    </tr>\n",
       "    <tr>\n",
       "      <th>studio</th>\n",
       "      <td>625.000</td>\n",
       "      <td>4545.000</td>\n",
       "      <td>2511.000</td>\n",
       "      <td>2353.000</td>\n",
       "      <td>897.000</td>\n",
       "    </tr>\n",
       "    <tr>\n",
       "      <th>villa</th>\n",
       "      <td>1765.000</td>\n",
       "      <td>6667.000</td>\n",
       "      <td>3499.000</td>\n",
       "      <td>3077.000</td>\n",
       "      <td>1294.000</td>\n",
       "    </tr>\n",
       "  </tbody>\n",
       "</table>\n",
       "</div>"
      ],
      "text/plain": [
       "                                           min       max     mean   median   \n",
       "geography_name      subtype                                                  \n",
       "beesy neighborhood  apartment          222.000  3958.000 1282.000 1133.000  \\\n",
       "                    apartment complex  600.000  1571.000 1154.000 1184.000   \n",
       "                    building           556.000  3942.000 1095.000  995.000   \n",
       "                    detached           429.000  5405.000 1446.000 1255.000   \n",
       "                    maisonette         806.000  4688.000 1858.000 1667.000   \n",
       "                    other residential  196.000  4302.000 1313.000 1206.000   \n",
       "                    studio             258.000  3200.000 1090.000 1000.000   \n",
       "gentrification area apartment          625.000  7018.000 2619.000 2500.000   \n",
       "                    apartment complex 3202.000  3247.000 3225.000 3225.000   \n",
       "                    building          1261.000  9333.000 2957.000 2412.000   \n",
       "                    detached           857.000  8800.000 2956.000 2713.000   \n",
       "                    loft              2436.000  2436.000 2436.000 2436.000   \n",
       "                    maisonette        1864.000  3929.000 2621.000 2286.000   \n",
       "                    other residential 1846.000  3400.000 2377.000 2314.000   \n",
       "                    studio             833.000  4167.000 2263.000 2250.000   \n",
       "northern sub        apartment          353.000  9960.000 2811.000 2500.000   \n",
       "                    apartment complex 1263.000  6250.000 3348.000 3115.000   \n",
       "                    building           317.000  8021.000 2689.000 2166.000   \n",
       "                    detached           250.000 24465.000 3002.000 2500.000   \n",
       "                    maisonette         800.000  8368.000 2548.000 2257.000   \n",
       "                    other residential  995.000 11765.000 3584.000 2750.000   \n",
       "                    studio            1622.000  2000.000 1905.000 2000.000   \n",
       "                    villa             1000.000 14706.000 3357.000 2518.000   \n",
       "south beach         apartment          755.000 18261.000 3508.000 3200.000   \n",
       "                    apartment complex 1176.000  5017.000 2430.000 2195.000   \n",
       "                    building           818.000  7500.000 2664.000 2167.000   \n",
       "                    bungalow          2167.000  2267.000 2217.000 2217.000   \n",
       "                    detached           967.000 16667.000 3406.000 2857.000   \n",
       "                    loft              2326.000  6211.000 4113.000 4457.000   \n",
       "                    maisonette         850.000 10417.000 4166.000 3929.000   \n",
       "                    other residential 1111.000  6746.000 3411.000 3086.000   \n",
       "                    studio             625.000  4545.000 2511.000 2353.000   \n",
       "                    villa             1765.000  6667.000 3499.000 3077.000   \n",
       "\n",
       "                                           std  \n",
       "geography_name      subtype                     \n",
       "beesy neighborhood  apartment          508.000  \n",
       "                    apartment complex  404.000  \n",
       "                    building           430.000  \n",
       "                    detached           727.000  \n",
       "                    maisonette         795.000  \n",
       "                    other residential  817.000  \n",
       "                    studio             610.000  \n",
       "gentrification area apartment          807.000  \n",
       "                    apartment complex   31.000  \n",
       "                    building          1749.000  \n",
       "                    detached          1419.000  \n",
       "                    loft                   NaN  \n",
       "                    maisonette         654.000  \n",
       "                    other residential  536.000  \n",
       "                    studio             808.000  \n",
       "northern sub        apartment         1219.000  \n",
       "                    apartment complex 1588.000  \n",
       "                    building          1648.000  \n",
       "                    detached          1972.000  \n",
       "                    maisonette         997.000  \n",
       "                    other residential 2541.000  \n",
       "                    studio             164.000  \n",
       "                    villa             2518.000  \n",
       "south beach         apartment         1314.000  \n",
       "                    apartment complex 1050.000  \n",
       "                    building          1356.000  \n",
       "                    bungalow            71.000  \n",
       "                    detached          2042.000  \n",
       "                    loft              1269.000  \n",
       "                    maisonette        1771.000  \n",
       "                    other residential 1462.000  \n",
       "                    studio             897.000  \n",
       "                    villa             1294.000  "
      ]
     },
     "execution_count": 31,
     "metadata": {},
     "output_type": "execute_result"
    }
   ],
   "source": [
    "# Summary statistics for the feature 'price_per_square_meter':\n",
    "\n",
    "df1_trimmed.groupby(['geography_name', 'subtype']).price_per_sq_meter.\\\n",
    "                                                agg(['min', 'max', 'mean', 'median', 'std']).round()"
   ]
  },
  {
   "cell_type": "markdown",
   "id": "d5c205f5",
   "metadata": {},
   "source": [
    "    "
   ]
  },
  {
   "cell_type": "markdown",
   "id": "1d7f85c3",
   "metadata": {},
   "source": [
    "    "
   ]
  },
  {
   "cell_type": "markdown",
   "id": "b256a24f",
   "metadata": {},
   "source": [
    "    "
   ]
  },
  {
   "cell_type": "markdown",
   "id": "e709814b",
   "metadata": {},
   "source": [
    "    "
   ]
  },
  {
   "cell_type": "markdown",
   "id": "623b6300",
   "metadata": {},
   "source": [
    "## Question 02 <a class=\"anchor\" id=\"4\"></a>"
   ]
  },
  {
   "cell_type": "markdown",
   "id": "46180b63",
   "metadata": {},
   "source": [
    "<img src=\"pics/question_2.png\" style=\"width: 700px;\"/>"
   ]
  },
  {
   "cell_type": "markdown",
   "id": "00159423",
   "metadata": {},
   "source": [
    "    "
   ]
  },
  {
   "cell_type": "markdown",
   "id": "bc5e71f7",
   "metadata": {},
   "source": [
    "Having done some basic pre-processing on the dataset (removing duplicates and trimming out houses with strange values on the 'price', 'sq_meter' and 'price_per_sq_meter') which we named `df1_trimmed`, we continue with that dataset but considering different features, those that are related to answering Question 02. The dataset for this question will be the `df2`.\n",
    "\n",
    "For the competitiveness score we will not need any information regarding the houses, but only those related with the agents and ranking of the houses, as well as the geographic area."
   ]
  },
  {
   "cell_type": "code",
   "execution_count": 32,
   "id": "a5902ce8",
   "metadata": {},
   "outputs": [
    {
     "data": {
      "text/html": [
       "<div>\n",
       "<style scoped>\n",
       "    .dataframe tbody tr th:only-of-type {\n",
       "        vertical-align: middle;\n",
       "    }\n",
       "\n",
       "    .dataframe tbody tr th {\n",
       "        vertical-align: top;\n",
       "    }\n",
       "\n",
       "    .dataframe thead th {\n",
       "        text-align: right;\n",
       "    }\n",
       "</style>\n",
       "<table border=\"1\" class=\"dataframe\">\n",
       "  <thead>\n",
       "    <tr style=\"text-align: right;\">\n",
       "      <th></th>\n",
       "      <th>geography_name</th>\n",
       "      <th>id</th>\n",
       "      <th>agent_id</th>\n",
       "      <th>ad_type</th>\n",
       "      <th>ranking_score</th>\n",
       "    </tr>\n",
       "  </thead>\n",
       "  <tbody>\n",
       "    <tr>\n",
       "      <th>0</th>\n",
       "      <td>northern sub</td>\n",
       "      <td>42911697</td>\n",
       "      <td>14680.000</td>\n",
       "      <td>simple</td>\n",
       "      <td>47.000</td>\n",
       "    </tr>\n",
       "    <tr>\n",
       "      <th>1</th>\n",
       "      <td>northern sub</td>\n",
       "      <td>43018583</td>\n",
       "      <td>15502.000</td>\n",
       "      <td>simple</td>\n",
       "      <td>134.700</td>\n",
       "    </tr>\n",
       "    <tr>\n",
       "      <th>2</th>\n",
       "      <td>northern sub</td>\n",
       "      <td>39670968</td>\n",
       "      <td>9807.000</td>\n",
       "      <td>simple</td>\n",
       "      <td>71.000</td>\n",
       "    </tr>\n",
       "    <tr>\n",
       "      <th>3</th>\n",
       "      <td>northern sub</td>\n",
       "      <td>39740833</td>\n",
       "      <td>14682.000</td>\n",
       "      <td>simple</td>\n",
       "      <td>122.000</td>\n",
       "    </tr>\n",
       "    <tr>\n",
       "      <th>4</th>\n",
       "      <td>northern sub</td>\n",
       "      <td>39742998</td>\n",
       "      <td>14682.000</td>\n",
       "      <td>simple</td>\n",
       "      <td>126.700</td>\n",
       "    </tr>\n",
       "  </tbody>\n",
       "</table>\n",
       "</div>"
      ],
      "text/plain": [
       "  geography_name        id  agent_id ad_type  ranking_score\n",
       "0   northern sub  42911697 14680.000  simple         47.000\n",
       "1   northern sub  43018583 15502.000  simple        134.700\n",
       "2   northern sub  39670968  9807.000  simple         71.000\n",
       "3   northern sub  39740833 14682.000  simple        122.000\n",
       "4   northern sub  39742998 14682.000  simple        126.700"
      ]
     },
     "execution_count": 32,
     "metadata": {},
     "output_type": "execute_result"
    }
   ],
   "source": [
    "# Take the indexes of the rows of df1_trimmed:\n",
    "idxs = list(df1_trimmed.index)\n",
    "cols2 = ['geography_name', 'id', 'agent_id', 'ad_type', 'ranking_score']\n",
    "df2 = data.loc[idxs, cols2].copy()\n",
    "df2.head()"
   ]
  },
  {
   "cell_type": "markdown",
   "id": "b02fa56d",
   "metadata": {},
   "source": [
    "        "
   ]
  },
  {
   "cell_type": "markdown",
   "id": "861ac55e",
   "metadata": {},
   "source": [
    "There are missing values on the `agent_id`. Since we are interested in the number of agents that are involved in each geographical area (we will count them per geographical area), it is completely fine to fill in the missing values with a randomly generated number."
   ]
  },
  {
   "cell_type": "code",
   "execution_count": 33,
   "id": "95ccc77d",
   "metadata": {
    "scrolled": true
   },
   "outputs": [
    {
     "data": {
      "text/plain": [
       "geography_name     0\n",
       "id                 0\n",
       "agent_id          95\n",
       "ad_type            0\n",
       "ranking_score      0\n",
       "dtype: int64"
      ]
     },
     "execution_count": 33,
     "metadata": {},
     "output_type": "execute_result"
    }
   ],
   "source": [
    "df2.isnull().sum()"
   ]
  },
  {
   "cell_type": "code",
   "execution_count": 34,
   "id": "919b7982",
   "metadata": {},
   "outputs": [],
   "source": [
    "# Fill in missing values with a randomly generated number that is greater than the max 'agent_id':\n",
    "\n",
    "df2['agent_id'].fillna(value=random.randint(df2.agent_id.max()+1, df2.agent_id.max()+ 100000), inplace=True) "
   ]
  },
  {
   "cell_type": "markdown",
   "id": "5e08c670",
   "metadata": {},
   "source": [
    "    "
   ]
  },
  {
   "cell_type": "markdown",
   "id": "74fbb34d",
   "metadata": {},
   "source": [
    "We will use the features `id` and `agent_id` to create a score (which we refer to as `score1`) for each geographical area. This score will be computed from:\n",
    "- the number of houses (total count of 'id'), \n",
    "- the number of agents (total count of unique 'agent_id')\n",
    "\n",
    "The score will be the sum of the proportions of these two features. "
   ]
  },
  {
   "cell_type": "markdown",
   "id": "8e390142",
   "metadata": {},
   "source": [
    "    "
   ]
  },
  {
   "cell_type": "code",
   "execution_count": 35,
   "id": "51df17ea",
   "metadata": {},
   "outputs": [
    {
     "data": {
      "text/html": [
       "<div>\n",
       "<style scoped>\n",
       "    .dataframe tbody tr th:only-of-type {\n",
       "        vertical-align: middle;\n",
       "    }\n",
       "\n",
       "    .dataframe tbody tr th {\n",
       "        vertical-align: top;\n",
       "    }\n",
       "\n",
       "    .dataframe thead th {\n",
       "        text-align: right;\n",
       "    }\n",
       "</style>\n",
       "<table border=\"1\" class=\"dataframe\">\n",
       "  <thead>\n",
       "    <tr style=\"text-align: right;\">\n",
       "      <th></th>\n",
       "      <th>id</th>\n",
       "      <th>agent_id</th>\n",
       "    </tr>\n",
       "    <tr>\n",
       "      <th>geography_name</th>\n",
       "      <th></th>\n",
       "      <th></th>\n",
       "    </tr>\n",
       "  </thead>\n",
       "  <tbody>\n",
       "    <tr>\n",
       "      <th>beesy neighborhood</th>\n",
       "      <td>2073</td>\n",
       "      <td>304</td>\n",
       "    </tr>\n",
       "    <tr>\n",
       "      <th>gentrification area</th>\n",
       "      <td>799</td>\n",
       "      <td>213</td>\n",
       "    </tr>\n",
       "    <tr>\n",
       "      <th>northern sub</th>\n",
       "      <td>4956</td>\n",
       "      <td>284</td>\n",
       "    </tr>\n",
       "    <tr>\n",
       "      <th>south beach</th>\n",
       "      <td>6634</td>\n",
       "      <td>331</td>\n",
       "    </tr>\n",
       "  </tbody>\n",
       "</table>\n",
       "</div>"
      ],
      "text/plain": [
       "                       id  agent_id\n",
       "geography_name                     \n",
       "beesy neighborhood   2073       304\n",
       "gentrification area   799       213\n",
       "northern sub         4956       284\n",
       "south beach          6634       331"
      ]
     },
     "execution_count": 35,
     "metadata": {},
     "output_type": "execute_result"
    }
   ],
   "source": [
    "df_houses_agents = df2.groupby(by='geography_name').nunique().loc[:,['id', 'agent_id']]\n",
    "df_houses_agents"
   ]
  },
  {
   "cell_type": "code",
   "execution_count": 36,
   "id": "8d8c9405",
   "metadata": {},
   "outputs": [
    {
     "data": {
      "text/html": [
       "<div>\n",
       "<style scoped>\n",
       "    .dataframe tbody tr th:only-of-type {\n",
       "        vertical-align: middle;\n",
       "    }\n",
       "\n",
       "    .dataframe tbody tr th {\n",
       "        vertical-align: top;\n",
       "    }\n",
       "\n",
       "    .dataframe thead th {\n",
       "        text-align: right;\n",
       "    }\n",
       "</style>\n",
       "<table border=\"1\" class=\"dataframe\">\n",
       "  <thead>\n",
       "    <tr style=\"text-align: right;\">\n",
       "      <th></th>\n",
       "      <th>id</th>\n",
       "      <th>agent_id</th>\n",
       "      <th>score1</th>\n",
       "    </tr>\n",
       "    <tr>\n",
       "      <th>geography_name</th>\n",
       "      <th></th>\n",
       "      <th></th>\n",
       "      <th></th>\n",
       "    </tr>\n",
       "  </thead>\n",
       "  <tbody>\n",
       "    <tr>\n",
       "      <th>beesy neighborhood</th>\n",
       "      <td>0.143</td>\n",
       "      <td>0.269</td>\n",
       "      <td>0.412</td>\n",
       "    </tr>\n",
       "    <tr>\n",
       "      <th>gentrification area</th>\n",
       "      <td>0.055</td>\n",
       "      <td>0.188</td>\n",
       "      <td>0.243</td>\n",
       "    </tr>\n",
       "    <tr>\n",
       "      <th>northern sub</th>\n",
       "      <td>0.343</td>\n",
       "      <td>0.251</td>\n",
       "      <td>0.594</td>\n",
       "    </tr>\n",
       "    <tr>\n",
       "      <th>south beach</th>\n",
       "      <td>0.459</td>\n",
       "      <td>0.292</td>\n",
       "      <td>0.751</td>\n",
       "    </tr>\n",
       "  </tbody>\n",
       "</table>\n",
       "</div>"
      ],
      "text/plain": [
       "                       id  agent_id  score1\n",
       "geography_name                             \n",
       "beesy neighborhood  0.143     0.269   0.412\n",
       "gentrification area 0.055     0.188   0.243\n",
       "northern sub        0.343     0.251   0.594\n",
       "south beach         0.459     0.292   0.751"
      ]
     },
     "execution_count": 36,
     "metadata": {},
     "output_type": "execute_result"
    }
   ],
   "source": [
    "# Each row on the initial dataset refers to a unique house, so this ratio is taken by deviding the total number \n",
    "# of rows:\n",
    "house_ratio = df2.groupby(by='geography_name').nunique().loc[:,['id']]/df2.shape[0]\n",
    "\n",
    "# The denominator of this proportion will be the unique number of agents on each geographical area, which is the \n",
    "# sum of the column 'agent_id' of the aforementioned table:\n",
    "agent_ratio = df2.groupby(by='geography_name').nunique().loc[:,['agent_id']]/df_houses_agents.sum(axis=0).agent_id\n",
    "\n",
    "# Compute the score as the sum of the ratios:\n",
    "score_df = pd.merge(house_ratio, agent_ratio, on='geography_name')\n",
    "score_df['score1'] = score_df['id'] + score_df['agent_id']\n",
    "score_df"
   ]
  },
  {
   "cell_type": "markdown",
   "id": "91d98d1d",
   "metadata": {},
   "source": [
    "    "
   ]
  },
  {
   "cell_type": "markdown",
   "id": "41d87166",
   "metadata": {},
   "source": [
    "How to interpret `score1`: \n",
    "\n",
    "The higher the score the more the houses and agents on a specific geographic area. Consequently a high `score1` would mean that the area is more competitive. \n",
    "\n",
    "We will also try and incorporate the `ad_type` and the `ranking_score` into a score. As a first step, on the initial dataset, for each house we will compute a `composite_ranking_score` which will the product of `ranking_score` with `ad_type_ordinal` ("
   ]
  },
  {
   "cell_type": "code",
   "execution_count": 37,
   "id": "6f87542f",
   "metadata": {},
   "outputs": [],
   "source": [
    "# Create tje ad_type_ordinal:\n",
    "mapping_dict = {'simple': 1, 'up': 2, 'premium': 3, 'star': 4}\n",
    "df2['ad_type_ordinal'] = df2['ad_type'].replace(mapping_dict)\n",
    "\n",
    "# Compute the composite ranking score: \n",
    "df2['composite_ranking_score'] = df2['ad_type_ordinal']*df2['ranking_score']"
   ]
  },
  {
   "cell_type": "code",
   "execution_count": 38,
   "id": "e1c58792",
   "metadata": {},
   "outputs": [
    {
     "data": {
      "text/html": [
       "<div>\n",
       "<style scoped>\n",
       "    .dataframe tbody tr th:only-of-type {\n",
       "        vertical-align: middle;\n",
       "    }\n",
       "\n",
       "    .dataframe tbody tr th {\n",
       "        vertical-align: top;\n",
       "    }\n",
       "\n",
       "    .dataframe thead th {\n",
       "        text-align: right;\n",
       "    }\n",
       "</style>\n",
       "<table border=\"1\" class=\"dataframe\">\n",
       "  <thead>\n",
       "    <tr style=\"text-align: right;\">\n",
       "      <th></th>\n",
       "      <th>geography_name</th>\n",
       "      <th>id</th>\n",
       "      <th>agent_id</th>\n",
       "      <th>ad_type</th>\n",
       "      <th>ranking_score</th>\n",
       "      <th>ad_type_ordinal</th>\n",
       "      <th>composite_ranking_score</th>\n",
       "    </tr>\n",
       "  </thead>\n",
       "  <tbody>\n",
       "    <tr>\n",
       "      <th>0</th>\n",
       "      <td>northern sub</td>\n",
       "      <td>42911697</td>\n",
       "      <td>14680.000</td>\n",
       "      <td>simple</td>\n",
       "      <td>47.000</td>\n",
       "      <td>1</td>\n",
       "      <td>47.000</td>\n",
       "    </tr>\n",
       "    <tr>\n",
       "      <th>1</th>\n",
       "      <td>northern sub</td>\n",
       "      <td>43018583</td>\n",
       "      <td>15502.000</td>\n",
       "      <td>simple</td>\n",
       "      <td>134.700</td>\n",
       "      <td>1</td>\n",
       "      <td>134.700</td>\n",
       "    </tr>\n",
       "    <tr>\n",
       "      <th>2</th>\n",
       "      <td>northern sub</td>\n",
       "      <td>39670968</td>\n",
       "      <td>9807.000</td>\n",
       "      <td>simple</td>\n",
       "      <td>71.000</td>\n",
       "      <td>1</td>\n",
       "      <td>71.000</td>\n",
       "    </tr>\n",
       "    <tr>\n",
       "      <th>3</th>\n",
       "      <td>northern sub</td>\n",
       "      <td>39740833</td>\n",
       "      <td>14682.000</td>\n",
       "      <td>simple</td>\n",
       "      <td>122.000</td>\n",
       "      <td>1</td>\n",
       "      <td>122.000</td>\n",
       "    </tr>\n",
       "    <tr>\n",
       "      <th>4</th>\n",
       "      <td>northern sub</td>\n",
       "      <td>39742998</td>\n",
       "      <td>14682.000</td>\n",
       "      <td>simple</td>\n",
       "      <td>126.700</td>\n",
       "      <td>1</td>\n",
       "      <td>126.700</td>\n",
       "    </tr>\n",
       "  </tbody>\n",
       "</table>\n",
       "</div>"
      ],
      "text/plain": [
       "  geography_name        id  agent_id ad_type  ranking_score  ad_type_ordinal   \n",
       "0   northern sub  42911697 14680.000  simple         47.000                1  \\\n",
       "1   northern sub  43018583 15502.000  simple        134.700                1   \n",
       "2   northern sub  39670968  9807.000  simple         71.000                1   \n",
       "3   northern sub  39740833 14682.000  simple        122.000                1   \n",
       "4   northern sub  39742998 14682.000  simple        126.700                1   \n",
       "\n",
       "   composite_ranking_score  \n",
       "0                   47.000  \n",
       "1                  134.700  \n",
       "2                   71.000  \n",
       "3                  122.000  \n",
       "4                  126.700  "
      ]
     },
     "execution_count": 38,
     "metadata": {},
     "output_type": "execute_result"
    }
   ],
   "source": [
    "df2.head()"
   ]
  },
  {
   "cell_type": "code",
   "execution_count": 39,
   "id": "dbf7c376",
   "metadata": {},
   "outputs": [
    {
     "data": {
      "text/html": [
       "<div>\n",
       "<style scoped>\n",
       "    .dataframe tbody tr th:only-of-type {\n",
       "        vertical-align: middle;\n",
       "    }\n",
       "\n",
       "    .dataframe tbody tr th {\n",
       "        vertical-align: top;\n",
       "    }\n",
       "\n",
       "    .dataframe thead th {\n",
       "        text-align: right;\n",
       "    }\n",
       "</style>\n",
       "<table border=\"1\" class=\"dataframe\">\n",
       "  <thead>\n",
       "    <tr style=\"text-align: right;\">\n",
       "      <th></th>\n",
       "      <th>composite_ranking_score</th>\n",
       "    </tr>\n",
       "    <tr>\n",
       "      <th>geography_name</th>\n",
       "      <th></th>\n",
       "    </tr>\n",
       "  </thead>\n",
       "  <tbody>\n",
       "    <tr>\n",
       "      <th>beesy neighborhood</th>\n",
       "      <td>122.801</td>\n",
       "    </tr>\n",
       "    <tr>\n",
       "      <th>gentrification area</th>\n",
       "      <td>140.144</td>\n",
       "    </tr>\n",
       "    <tr>\n",
       "      <th>northern sub</th>\n",
       "      <td>140.016</td>\n",
       "    </tr>\n",
       "    <tr>\n",
       "      <th>south beach</th>\n",
       "      <td>129.409</td>\n",
       "    </tr>\n",
       "  </tbody>\n",
       "</table>\n",
       "</div>"
      ],
      "text/plain": [
       "                     composite_ranking_score\n",
       "geography_name                              \n",
       "beesy neighborhood                   122.801\n",
       "gentrification area                  140.144\n",
       "northern sub                         140.016\n",
       "south beach                          129.409"
      ]
     },
     "execution_count": 39,
     "metadata": {},
     "output_type": "execute_result"
    }
   ],
   "source": [
    "# We take the average composite_ranking_score for each geographical area: \n",
    "\n",
    "composite_df = pd.DataFrame(df2.groupby(by='geography_name')['composite_ranking_score'].mean())\n",
    "composite_df"
   ]
  },
  {
   "cell_type": "code",
   "execution_count": 40,
   "id": "03a58514",
   "metadata": {},
   "outputs": [],
   "source": [
    "def min_max_scaler(x):\n",
    "    '''\n",
    "    Scales the data between 0 and 1.\n",
    "    '''\n",
    "    \n",
    "    x_np = np.array(x)\n",
    "    scaled_x = (x - np.min(x))/(np.max(x) - np.min(x))\n",
    "    \n",
    "    return(scaled_x)\n",
    "\n",
    "score2 = list(composite_df.composite_ranking_score)\n",
    "score2_normalized = min_max_scaler(score2)"
   ]
  },
  {
   "cell_type": "code",
   "execution_count": 41,
   "id": "3e54fe9d",
   "metadata": {},
   "outputs": [],
   "source": [
    "score_df['score2'] = score2_normalized\n"
   ]
  },
  {
   "cell_type": "code",
   "execution_count": 42,
   "id": "f3cc910a",
   "metadata": {},
   "outputs": [
    {
     "data": {
      "text/html": [
       "<div>\n",
       "<style scoped>\n",
       "    .dataframe tbody tr th:only-of-type {\n",
       "        vertical-align: middle;\n",
       "    }\n",
       "\n",
       "    .dataframe tbody tr th {\n",
       "        vertical-align: top;\n",
       "    }\n",
       "\n",
       "    .dataframe thead th {\n",
       "        text-align: right;\n",
       "    }\n",
       "</style>\n",
       "<table border=\"1\" class=\"dataframe\">\n",
       "  <thead>\n",
       "    <tr style=\"text-align: right;\">\n",
       "      <th></th>\n",
       "      <th>score1</th>\n",
       "      <th>score2</th>\n",
       "      <th>score</th>\n",
       "    </tr>\n",
       "    <tr>\n",
       "      <th>geography_name</th>\n",
       "      <th></th>\n",
       "      <th></th>\n",
       "      <th></th>\n",
       "    </tr>\n",
       "  </thead>\n",
       "  <tbody>\n",
       "    <tr>\n",
       "      <th>beesy neighborhood</th>\n",
       "      <td>0.412</td>\n",
       "      <td>0.000</td>\n",
       "      <td>0.412</td>\n",
       "    </tr>\n",
       "    <tr>\n",
       "      <th>gentrification area</th>\n",
       "      <td>0.243</td>\n",
       "      <td>1.000</td>\n",
       "      <td>1.243</td>\n",
       "    </tr>\n",
       "    <tr>\n",
       "      <th>northern sub</th>\n",
       "      <td>0.594</td>\n",
       "      <td>0.993</td>\n",
       "      <td>1.586</td>\n",
       "    </tr>\n",
       "    <tr>\n",
       "      <th>south beach</th>\n",
       "      <td>0.751</td>\n",
       "      <td>0.381</td>\n",
       "      <td>1.132</td>\n",
       "    </tr>\n",
       "  </tbody>\n",
       "</table>\n",
       "</div>"
      ],
      "text/plain": [
       "                     score1  score2  score\n",
       "geography_name                            \n",
       "beesy neighborhood    0.412   0.000  0.412\n",
       "gentrification area   0.243   1.000  1.243\n",
       "northern sub          0.594   0.993  1.586\n",
       "south beach           0.751   0.381  1.132"
      ]
     },
     "execution_count": 42,
     "metadata": {},
     "output_type": "execute_result"
    }
   ],
   "source": [
    "score_df['score'] = score_df['score1'] + score_df['score2']\n",
    "score_df.drop(['id', 'agent_id'], axis=1, inplace=True)\n",
    "score_df"
   ]
  },
  {
   "cell_type": "code",
   "execution_count": 43,
   "id": "73cf5ed7",
   "metadata": {},
   "outputs": [
    {
     "data": {
      "text/html": [
       "<div>\n",
       "<style scoped>\n",
       "    .dataframe tbody tr th:only-of-type {\n",
       "        vertical-align: middle;\n",
       "    }\n",
       "\n",
       "    .dataframe tbody tr th {\n",
       "        vertical-align: top;\n",
       "    }\n",
       "\n",
       "    .dataframe thead th {\n",
       "        text-align: right;\n",
       "    }\n",
       "</style>\n",
       "<table border=\"1\" class=\"dataframe\">\n",
       "  <thead>\n",
       "    <tr style=\"text-align: right;\">\n",
       "      <th></th>\n",
       "      <th>score1</th>\n",
       "      <th>score2</th>\n",
       "      <th>score</th>\n",
       "      <th>score-last</th>\n",
       "    </tr>\n",
       "    <tr>\n",
       "      <th>geography_name</th>\n",
       "      <th></th>\n",
       "      <th></th>\n",
       "      <th></th>\n",
       "      <th></th>\n",
       "    </tr>\n",
       "  </thead>\n",
       "  <tbody>\n",
       "    <tr>\n",
       "      <th>beesy neighborhood</th>\n",
       "      <td>0.412</td>\n",
       "      <td>0.000</td>\n",
       "      <td>0.412</td>\n",
       "      <td>0.000</td>\n",
       "    </tr>\n",
       "    <tr>\n",
       "      <th>gentrification area</th>\n",
       "      <td>0.243</td>\n",
       "      <td>1.000</td>\n",
       "      <td>1.243</td>\n",
       "      <td>7.081</td>\n",
       "    </tr>\n",
       "    <tr>\n",
       "      <th>northern sub</th>\n",
       "      <td>0.594</td>\n",
       "      <td>0.993</td>\n",
       "      <td>1.586</td>\n",
       "      <td>10.000</td>\n",
       "    </tr>\n",
       "    <tr>\n",
       "      <th>south beach</th>\n",
       "      <td>0.751</td>\n",
       "      <td>0.381</td>\n",
       "      <td>1.132</td>\n",
       "      <td>6.133</td>\n",
       "    </tr>\n",
       "  </tbody>\n",
       "</table>\n",
       "</div>"
      ],
      "text/plain": [
       "                     score1  score2  score  score-last\n",
       "geography_name                                        \n",
       "beesy neighborhood    0.412   0.000  0.412       0.000\n",
       "gentrification area   0.243   1.000  1.243       7.081\n",
       "northern sub          0.594   0.993  1.586      10.000\n",
       "south beach           0.751   0.381  1.132       6.133"
      ]
     },
     "execution_count": 43,
     "metadata": {},
     "output_type": "execute_result"
    }
   ],
   "source": [
    "# Normalize this final score between zero and one, and multiply by 10:\n",
    "score_df['score-last'] = 10*min_max_scaler(score_df['score'])\n",
    "score_df"
   ]
  },
  {
   "cell_type": "markdown",
   "id": "d6122196",
   "metadata": {},
   "source": [
    "    "
   ]
  },
  {
   "cell_type": "markdown",
   "id": "4b375a30",
   "metadata": {},
   "source": [
    "### What to do if I had more time"
   ]
  },
  {
   "cell_type": "markdown",
   "id": "72cf659c",
   "metadata": {},
   "source": [
    "Ultimately, the above features could be used to create a Machine Learning model that will compute a score."
   ]
  },
  {
   "cell_type": "markdown",
   "id": "9b475b0d",
   "metadata": {},
   "source": [
    "    "
   ]
  },
  {
   "cell_type": "markdown",
   "id": "6ab91aea",
   "metadata": {},
   "source": [
    "    "
   ]
  },
  {
   "cell_type": "markdown",
   "id": "ec90963b",
   "metadata": {},
   "source": [
    "##  Question 03 <a class=\"anchor\" id=\"5\"></a>"
   ]
  },
  {
   "cell_type": "markdown",
   "id": "620d601a",
   "metadata": {},
   "source": [
    "<img src=\"pics/question_3.png\" style=\"width: 700px;\"/>"
   ]
  },
  {
   "cell_type": "markdown",
   "id": "e6c787b2",
   "metadata": {},
   "source": [
    "The answer that follows, which is ML engineering and modelling, is written linearly in the form of a story, with comments and single steps explaining the reasoning. If the model had a purpose to be put into production further code refactoring and automation would have be done.\n",
    "\n",
    "-Giorgos-"
   ]
  },
  {
   "cell_type": "code",
   "execution_count": 44,
   "id": "ae8a1d1d",
   "metadata": {},
   "outputs": [],
   "source": [
    "# We use the indeces of the cleaned dataset that occured after Question 01, to create the DataFrame that\n",
    "# we will further engineer and use for Question 03:\n",
    "\n",
    "idxs = list(df1_trimmed.index)\n",
    "\n",
    "df3 = data.loc[idxs].copy()"
   ]
  },
  {
   "cell_type": "markdown",
   "id": "5a3b2d4a",
   "metadata": {},
   "source": [
    "    "
   ]
  },
  {
   "cell_type": "markdown",
   "id": "00fd6bb0",
   "metadata": {},
   "source": [
    "### Feature exploration <a class=\"anchor\" id=\"feature_exploration\"></a>"
   ]
  },
  {
   "cell_type": "markdown",
   "id": "05b9561c",
   "metadata": {},
   "source": [
    "    "
   ]
  },
  {
   "cell_type": "markdown",
   "id": "81a71f80",
   "metadata": {},
   "source": [
    "In this section we explore the dataset and decide the actions to be taken regarding each of the features. The feature engineering and cleaning will be done on the next section."
   ]
  },
  {
   "cell_type": "markdown",
   "id": "4072f660",
   "metadata": {},
   "source": [
    "#### Features with many missing values"
   ]
  },
  {
   "cell_type": "markdown",
   "id": "f510b993",
   "metadata": {},
   "source": [
    "The features \n",
    "- `accessible_for_disabled`, \n",
    "- `energy_class` and \n",
    "- `equipped` \n",
    "\n",
    "have a high percentage of missing values and therefore will (later) be discarded."
   ]
  },
  {
   "cell_type": "code",
   "execution_count": 45,
   "id": "701c994a",
   "metadata": {},
   "outputs": [
    {
     "data": {
      "text/plain": [
       "accessible_for_disabled    96.280\n",
       "energy_class               86.281\n",
       "equipped                  100.000\n",
       "dtype: float64"
      ]
     },
     "execution_count": 45,
     "metadata": {},
     "output_type": "execute_result"
    }
   ],
   "source": [
    "x=['accessible_for_disabled', 'energy_class', 'equipped']\n",
    "\n",
    "100*df3[x].isna().sum()/df3.shape[0]"
   ]
  },
  {
   "cell_type": "markdown",
   "id": "8df54946",
   "metadata": {},
   "source": [
    "    "
   ]
  },
  {
   "cell_type": "markdown",
   "id": "31e6b9f3",
   "metadata": {},
   "source": [
    "#### The Boolean features (or Utilities features)"
   ]
  },
  {
   "cell_type": "markdown",
   "id": "17d1f269",
   "metadata": {},
   "source": [
    "We consider seperately the Boolean features, i.e. those taking True/False values, which we also call *Utility features* since most of them (but not all) refer to whether the houses include specific utilites or not (like a `pool`, a `garage`, etc). We call the remaining *rest features*. "
   ]
  },
  {
   "cell_type": "code",
   "execution_count": 46,
   "id": "055b1582",
   "metadata": {},
   "outputs": [
    {
     "data": {
      "text/plain": [
       "True"
      ]
     },
     "execution_count": 46,
     "metadata": {},
     "output_type": "execute_result"
    }
   ],
   "source": [
    "# Find the Boolean features (Those that take True/False Values): \n",
    "boolean_features = [col for col in df3.columns if set(df3[col].unique())==set([True,False,np.nan])]\n",
    "df3_utilities = df3[boolean_features].copy()\n",
    "\n",
    "# The rest of the features: \n",
    "rest_features = list(set(df3.columns).difference(set(boolean_features)))\n",
    "df3_rest = df3[rest_features].copy()\n",
    "\n",
    "# Validation check:\n",
    "len(rest_features) + len(boolean_features) == df3.shape[1]"
   ]
  },
  {
   "cell_type": "code",
   "execution_count": 47,
   "id": "e80c23d7",
   "metadata": {},
   "outputs": [
    {
     "name": "stdout",
     "output_type": "stream",
     "text": [
      "Min missing value on features: 10.7%\n",
      "Max missing value on features: 96.3%\n"
     ]
    }
   ],
   "source": [
    "missing_bool = pd.DataFrame(100*df3_utilities.isna().sum()/df3.shape[0])\n",
    "print(f\"Min missing value on features: {round(missing_bool.min()[0], 1)}%\")\n",
    "print(f\"Max missing value on features: {round(missing_bool.max()[0], 1)}%\")"
   ]
  },
  {
   "cell_type": "markdown",
   "id": "cd686f31",
   "metadata": {},
   "source": [
    "    "
   ]
  },
  {
   "cell_type": "markdown",
   "id": "8ee6e1cf",
   "metadata": {},
   "source": [
    "There are at least two explanations on why there are missing values on the Boolean/Utilities features: \n",
    "\n",
    "1. the utilities are not present in the house, or do not apply to specific houses, so a missing value could be considered as a value equal to False\n",
    "    \n",
    "2. the agent that performed the data entry did not understand or was lazy to complete all the fields.\n",
    "\n",
    "\n",
    "A fast way would be to consider that it is the 1st case and to impute all missing values with False. \n",
    "\n",
    "Another way would be to assume that some of these Boolean features are correlated with other features, and do a more careful data imputation (for example a house's `subtype` could be handy since it may give as hints on the utilities.  It is more possible that a `pool` (for example) will be present on a `maisonette` or a `villa` house rather than an `apartment` or `studio`.  We could generate a `pivot_table` (or a relative frequency table) with the utilities as rows, the different `subtype`s as columns and the entries would be the relative frequency of a utility being present on a specific type of house. If the value was above 50% we would impute True/1 otherwise False/0. "
   ]
  },
  {
   "cell_type": "markdown",
   "id": "ca150394",
   "metadata": {},
   "source": [
    "    "
   ]
  },
  {
   "cell_type": "markdown",
   "id": "b773ba07",
   "metadata": {},
   "source": [
    "#### Floor"
   ]
  },
  {
   "cell_type": "markdown",
   "id": "f2f26dd6",
   "metadata": {},
   "source": [
    "The variable `floor` has missing values. A reasonable explanation is that these houses are not on a floor, but on the ground floor. We will thus impute it with 'ground'.\n",
    "\n",
    "Further on, we see that there are few values for the great floor values (only one house on the 10th or 11th or 20th floor). To *decrease the cardinality* we create a new feature that will hold all the floors above or equal to 6."
   ]
  },
  {
   "cell_type": "code",
   "execution_count": 48,
   "id": "e5e6ce4d",
   "metadata": {},
   "outputs": [
    {
     "data": {
      "text/plain": [
       "floor\n",
       "ground-floor     4904\n",
       "1                2927\n",
       "2                1979\n",
       "3                1761\n",
       "4                1117\n",
       "NaN               727\n",
       "5                 413\n",
       "basement          178\n",
       "mezzanine         167\n",
       "semi-basement     141\n",
       "6                 114\n",
       "7                  28\n",
       "8                   3\n",
       "20                  1\n",
       "11                  1\n",
       "10                  1\n",
       "Name: count, dtype: int64"
      ]
     },
     "execution_count": 48,
     "metadata": {},
     "output_type": "execute_result"
    }
   ],
   "source": [
    "df3.floor.value_counts(dropna=False)"
   ]
  },
  {
   "cell_type": "markdown",
   "id": "1ac9206a",
   "metadata": {},
   "source": [
    "    "
   ]
  },
  {
   "cell_type": "markdown",
   "id": "25912057",
   "metadata": {},
   "source": [
    "    "
   ]
  },
  {
   "cell_type": "markdown",
   "id": "f74c8d2e",
   "metadata": {},
   "source": [
    "#### Years since construction"
   ]
  },
  {
   "cell_type": "markdown",
   "id": "e21eb483",
   "metadata": {},
   "source": [
    "Instead of keeping the `year_of_construction`, we will subtract it from the current year, 2023, in order to create the feature `years_since_construction`. \n",
    "\n",
    "We are also told that a value of `2155` means that the house is still under construction. We will thus replace it with the current year, 2023, so that after the subtraction the value of `years_since_construction` for all the houses that are under construction will be `0`."
   ]
  },
  {
   "cell_type": "code",
   "execution_count": 49,
   "id": "3a4e13b6",
   "metadata": {},
   "outputs": [],
   "source": [
    "df_plot = df3.copy()\n",
    "\n",
    "df_plot['year_of_construction'].replace(to_replace=2155, value=2023, inplace=True)\n",
    "df_plot['years_since_construction'] = 2023 - df_plot['year_of_construction']"
   ]
  },
  {
   "cell_type": "markdown",
   "id": "fbcfca66",
   "metadata": {},
   "source": [
    "    "
   ]
  },
  {
   "cell_type": "markdown",
   "id": "baa970a8",
   "metadata": {},
   "source": [
    "As we see from the boxplots below, there are some **extreme values** in the newly created feature `years_since_construction`. These are: \n",
    "- Two values around 1000. These big ages could be legitimate for very rare old houses, but because it distorts the distribution of the feature, we will replace them with the *maximum value among the normal values* (i.e. excluding the extreme values mentioned here), in order to keep their (assumed) character of an old house.\n",
    "- Some values of 2023, which occured for the houses which had the initial feature `year_of construction` equal to zero. We don't the explanation of these values so we will replace them with the *median* value."
   ]
  },
  {
   "cell_type": "code",
   "execution_count": 50,
   "id": "44d9a72e",
   "metadata": {},
   "outputs": [
    {
     "data": {
      "image/png": "[encoded data removed]",
      "text/plain": [
       "<Figure size 700x300 with 2 Axes>"
      ]
     },
     "metadata": {},
     "output_type": "display_data"
    }
   ],
   "source": [
    "fig, ax = plt.subplots(1,2,figsize=(7,3))\n",
    "\n",
    "sns.boxplot(df_plot, y='years_since_construction', ax=ax[0])\n",
    "sns.boxplot(df_plot[df_plot['years_since_construction']<750], y='years_since_construction', ax=ax[1])\n",
    "ax[1].set_ylabel('')\n",
    "ax[0].set_title('All data')\n",
    "ax[1].set_title('Extreme values \\nnot considered')\n",
    "plt.show()"
   ]
  },
  {
   "cell_type": "markdown",
   "id": "3174ebc2",
   "metadata": {},
   "source": [
    "    "
   ]
  },
  {
   "cell_type": "markdown",
   "id": "2e1b3b98",
   "metadata": {},
   "source": [
    "    "
   ]
  },
  {
   "cell_type": "markdown",
   "id": "06379a9d",
   "metadata": {},
   "source": [
    "#### Years since renovation"
   ]
  },
  {
   "cell_type": "markdown",
   "id": "397a6ad8",
   "metadata": {},
   "source": [
    "We will use the feature `renovation_year` to create the feature `years_since_renovation`. \n",
    "\n",
    "We will assume that missing values on this feature mean that the house was never renovated (we could also use the `renovated` feature for cross-checking that), and thus we will fill them in the corresponding value of `years_since_construction`. If the house was never renovated, then the last time that (re)building was made was when it was constructed. "
   ]
  },
  {
   "cell_type": "code",
   "execution_count": 51,
   "id": "e0338179",
   "metadata": {},
   "outputs": [],
   "source": [
    "# Create the new feature:\n",
    "df_plot['years_since_renovation'] = 2023 - df_plot['renovation_year']"
   ]
  },
  {
   "cell_type": "code",
   "execution_count": 52,
   "id": "cc2cc576",
   "metadata": {},
   "outputs": [
    {
     "data": {
      "text/plain": [
       "12572"
      ]
     },
     "execution_count": 52,
     "metadata": {},
     "output_type": "execute_result"
    }
   ],
   "source": [
    "# Many missing values\n",
    "df_plot.isna().sum().years_since_renovation"
   ]
  },
  {
   "cell_type": "code",
   "execution_count": 53,
   "id": "0a052c5d",
   "metadata": {},
   "outputs": [
    {
     "data": {
      "image/png": "[encoded data removed]",
      "text/plain": [
       "<Figure size 300x300 with 1 Axes>"
      ]
     },
     "metadata": {},
     "output_type": "display_data"
    }
   ],
   "source": [
    "fig, ax = plt.subplots(figsize=(3,3))\n",
    "sns.boxplot(df_plot, y='years_since_renovation')\n",
    "plt.show()"
   ]
  },
  {
   "cell_type": "markdown",
   "id": "95913b84",
   "metadata": {},
   "source": [
    "    "
   ]
  },
  {
   "cell_type": "markdown",
   "id": "36df731c",
   "metadata": {},
   "source": [
    "    "
   ]
  },
  {
   "cell_type": "markdown",
   "id": "544a7194",
   "metadata": {},
   "source": [
    "## Feature engineering <a class=\"anchor\" id=\"feature_engineering\"></a>"
   ]
  },
  {
   "cell_type": "markdown",
   "id": "9b110161",
   "metadata": {},
   "source": [
    "    "
   ]
  },
  {
   "cell_type": "code",
   "execution_count": 54,
   "id": "07dbd692",
   "metadata": {},
   "outputs": [],
   "source": [
    "def drop_unecessary_features(df):\n",
    "    '''\n",
    "    - The feature 'ad_type' and 'ranking_score' are not house characteristics and are relative to how the houses\n",
    "      are displayed on the website,\n",
    "    - The 'id' and 'agent_id' are ids and thus not useful for predicting the target variable.\n",
    "    - The 'accessible_for_disabled', 'energy_class', and 'equipped' have lots of missing values (96%, 86% and 100% \n",
    "      respectively) and thus are not useful at all.\n",
    "    '''\n",
    "    \n",
    "    cols_delete = ['id', 'agent_id', 'ad_type', 'ranking_score', 'accessible_for_disabled', \n",
    "                   'energy_class', 'equipped']\n",
    "    df.drop(columns=cols_delete, inplace=True)\n",
    "    \n",
    "    return(df)\n",
    "  \n",
    "    \n",
    "def engineer_boolean_values(df):\n",
    "    '''\n",
    "    Regarding the Boolean features:\n",
    "        - As we have seen, the Boolean features (or utility features) all have missing values between\n",
    "    '''\n",
    "    \n",
    "    # The Boolean features (Those that take True/False Values): \n",
    "    boolean_features = [col for col in df.columns if set(df[col].unique())==set([True,False,np.nan])]\n",
    "    \n",
    "    # Fill in Boolean values with False:\n",
    "    df_utilities = df[boolean_features]\n",
    "    df_utilities = df_utilities.fillna(value=False)\n",
    "    df_utilities = df_utilities.replace({True: 1, False: 0})\n",
    "    \n",
    "    df[boolean_features] = df_utilities\n",
    "\n",
    "    return(df)\n",
    "\n",
    "    \n",
    "def engineer_floor(df):\n",
    "    '''\n",
    "    Regarding the feature 'floor':\n",
    "        - We assume that missing values are explained as to the house not being on a floor, and thus it is on the\n",
    "          ground floor. We impute it with 'ground'\n",
    "        - To decrease the cardinality we create a new feature that will hold all the floors above or equal to 6\n",
    "        - Apply One-hot Encoding.\n",
    "    '''\n",
    "    \n",
    "    # Change for elegance (as the word 'floor' is later added as prefix):\n",
    "    df['floor'] = df['floor'].replace(to_replace='ground-floor', value='ground')\n",
    "    \n",
    "    # Fill in missing values with 'ground':\n",
    "    df['floor'].fillna(value='ground', inplace=True)\n",
    "    \n",
    "    # We will decrease the cardinality of the feature 'floor' by creating a new value that will \n",
    "    # hold all the floors above or equal to floor 6: \n",
    "    df['floor'] = df['floor'].replace(to_replace=['6', '7', '8', '10','11','20'], value='6_or_above')\n",
    "    \n",
    "    return(df)\n",
    "   \n",
    "    \n",
    "def engineer_years_since_renovation(df):\n",
    "    '''\n",
    "    Create new feature 'years_since_renovation' and fill in missing values.\n",
    "    '''\n",
    "    \n",
    "    # Create feature 'years_since_renovation':\n",
    "    df['years_since_renovation'] = 2023 - df['renovation_year']\n",
    "    df.drop(columns='renovation_year', inplace=True)\n",
    "    \n",
    "    # Fill in the missing values with corresponding value of 'years_since_construction':\n",
    "    df['years_since_renovation'].fillna(df['years_since_construction'], inplace=True)    \n",
    "    \n",
    "    return(df)\n",
    "\n",
    "    \n",
    "def engineer_years_since_construction(df):\n",
    "    '''\n",
    "    Create the new feature 'years_since_construction' and treat extreme values.\n",
    "    '''\n",
    " \n",
    "    # We will replace 2155 with 2023, the year we have now, since it is under construction: \n",
    "    df['year_of_construction'].replace(to_replace=2155, value=2023)\n",
    "    \n",
    "    # Create feature 'years_since_construction':\n",
    "    df['years_since_construction'] = 2023 - df['year_of_construction']\n",
    "    \n",
    "    # Replace extreme values:\n",
    "    df['years_since_construction'].replace(to_replace=2023, \n",
    "                                        value=df['years_since_construction'].median(), inplace=True)\n",
    "    df['years_since_construction'].replace(to_replace=[953, 1004], \n",
    "                                        value=df[df['years_since_construction']<900].\\\n",
    "                                        years_since_construction.max(), inplace=True)\n",
    "    \n",
    "    # Drop the 3 features related to year of construction, since in the newly created feature the\n",
    "    # information given by 'unfinished' and 'new_development' is implicitly included.\n",
    "    df.drop(columns=['year_of_construction', 'unfinished', 'new_development'], inplace=True)\n",
    "    \n",
    "    return(df)\n",
    "\n",
    "    \n",
    "def engineer_subtype(df):\n",
    "    '''\n",
    "    Put an underscore on the name.\n",
    "    '''\n",
    "    \n",
    "    # Replace <space> with <underscore>:\n",
    "    df['subtype'] = df['subtype'].str.replace(' ', '_')\n",
    "    \n",
    "    return(df)\n",
    "    \n",
    "    \n",
    "def engineer_geography_name(df):\n",
    "    '''\n",
    "    Regarding the feature 'geography_name': \n",
    "        - We replace the <space> with <underscore>\n",
    "        - We apply One-hot Encoding.\n",
    "    '''\n",
    "    \n",
    "    # Replace <space> with <underscore>:\n",
    "    df['geography_name'] = df['geography_name'].str.replace(' ', '_')\n",
    "    \n",
    "    return(df)\n",
    "\n",
    "\n",
    "def apply_onehot_encoding(df):\n",
    "    '''\n",
    "    For all categorical features it applies One-hot encoding.\n",
    "    '''\n",
    "\n",
    "    # Apply to 'floor':\n",
    "    df = pd.concat([df, pd.get_dummies(df.floor, prefix='floor')], axis=1)\n",
    "    df.drop(columns='floor', inplace=True)\n",
    "    \n",
    "    # Apply to 'subtype':\n",
    "    df = pd.concat([df, pd.get_dummies(df.subtype, prefix='subtype')], axis=1)\n",
    "    df.drop(columns='subtype', inplace=True)\n",
    "    \n",
    "    # Apply to 'geography_name': \n",
    "    df = pd.concat([df, pd.get_dummies(df.geography_name, prefix='area')], axis=1)\n",
    "    df.drop(columns='geography_name', inplace=True)\n",
    "    \n",
    "    return(df)\n",
    "\n",
    "    \n",
    "def apply_feature_engineering(df):\n",
    "    '''\n",
    "    Call all the above functions to apply the necessary feature engineering. \n",
    "    '''\n",
    "    \n",
    "    df = drop_unecessary_features(df)\n",
    "    df = engineer_boolean_values(df)\n",
    "    df = engineer_floor(df)\n",
    "    df = engineer_years_since_construction(df)\n",
    "    df = engineer_years_since_renovation(df)\n",
    "    df = engineer_subtype(df)\n",
    "    df = engineer_geography_name(df)\n",
    "    df = apply_onehot_encoding(df)\n",
    "    \n",
    "    return(df)"
   ]
  },
  {
   "cell_type": "code",
   "execution_count": 55,
   "id": "6a9e5697",
   "metadata": {},
   "outputs": [],
   "source": [
    "idxs = list(df1_trimmed.index)\n",
    "df3 = data.loc[idxs].copy()\n",
    "\n",
    "# The dataset after the feature engineering:\n",
    "df3_final = apply_feature_engineering(df3)"
   ]
  },
  {
   "cell_type": "markdown",
   "id": "6fcf31b0",
   "metadata": {},
   "source": [
    "    "
   ]
  },
  {
   "cell_type": "markdown",
   "id": "8d9dc53d",
   "metadata": {},
   "source": [
    "#### Pearson's Correlation Coefficient"
   ]
  },
  {
   "cell_type": "code",
   "execution_count": 56,
   "id": "e89378fa",
   "metadata": {},
   "outputs": [
    {
     "data": {
      "text/plain": [
       "sq_meters          0.727\n",
       "no_of_bathrooms    0.424\n",
       "rooms              0.337\n",
       "pool               0.327\n",
       "no_of_wc           0.327\n",
       "subtype_detached   0.320\n",
       "floor_ground       0.310\n",
       "internal_stairs    0.281\n",
       "garden             0.259\n",
       "playroom           0.248\n",
       "Name: price, dtype: float64"
      ]
     },
     "execution_count": 56,
     "metadata": {},
     "output_type": "execute_result"
    }
   ],
   "source": [
    "# Top 10 features correlated with the target variable 'price', in descending order.\n",
    "corr_df = df3_final.corr().price\n",
    "corr_df.sort_values(ascending=False).drop('price', axis=0).head(10)"
   ]
  },
  {
   "cell_type": "code",
   "execution_count": 57,
   "id": "1b7f5688",
   "metadata": {},
   "outputs": [],
   "source": [
    "#boolean_features = [col for col in df3_final if set(df3_final[col])=={0,1}]\n",
    "#sns.heatmap(df3_final[boolean_features].corr())"
   ]
  },
  {
   "cell_type": "code",
   "execution_count": 58,
   "id": "28deaec4",
   "metadata": {},
   "outputs": [
    {
     "data": {
      "text/plain": [
       "(14462, 68)"
      ]
     },
     "execution_count": 58,
     "metadata": {},
     "output_type": "execute_result"
    }
   ],
   "source": [
    "df3_final.shape"
   ]
  },
  {
   "cell_type": "markdown",
   "id": "5d989a9a",
   "metadata": {},
   "source": [
    "    "
   ]
  },
  {
   "cell_type": "markdown",
   "id": "61e6f47c",
   "metadata": {},
   "source": [
    "#### Train-test split"
   ]
  },
  {
   "cell_type": "markdown",
   "id": "06c9a87c",
   "metadata": {},
   "source": [
    "We split the dataset into a *train set* with 70% of the data for training the model, and a *test set* with the rest 30% for evaluating the model. In this way we can see how good our model(s) generalize on previously unseen data. "
   ]
  },
  {
   "cell_type": "code",
   "execution_count": 59,
   "id": "4ac6518b",
   "metadata": {},
   "outputs": [],
   "source": [
    "X, y = df3_final.drop('price', axis=1), df3_final.loc[:,'price']\n",
    "X_train, X_test, y_train, y_test = train_test_split(X, y, test_size=0.3, random_state=13)"
   ]
  },
  {
   "cell_type": "markdown",
   "id": "2c0ddfc7",
   "metadata": {},
   "source": [
    "    "
   ]
  },
  {
   "cell_type": "markdown",
   "id": "25ee98d7",
   "metadata": {},
   "source": [
    "#### Scaling features"
   ]
  },
  {
   "cell_type": "markdown",
   "id": "37a2231a",
   "metadata": {},
   "source": [
    "We will normalize all the numerical features, not the Boolean though since they don't need Normalization. This will help to improve the performance of the linear regression algorithm and ensure that the coefficients are meaningful.\n",
    "\n",
    "Scaling the data is particularly important when using distance-based ML algorithms, such as Linear Regression for example. Tree-based models are not much affected by unscaled data. \n"
   ]
  },
  {
   "cell_type": "code",
   "execution_count": 60,
   "id": "84fa70fb",
   "metadata": {},
   "outputs": [],
   "source": [
    "non_boolean = [col for col in X.columns if set(X[col])!={0,1}]\n",
    "boolean = list(set(X.columns).difference(set(non_boolean)))"
   ]
  },
  {
   "cell_type": "code",
   "execution_count": 61,
   "id": "fd70476d",
   "metadata": {},
   "outputs": [],
   "source": [
    "scaler = StandardScaler()\n",
    "\n",
    "# StandardScaler returns numpy arrays:\n",
    "X_train_scaled_np = scaler.fit_transform(X_train[non_boolean])\n",
    "X_test_scaled_np = scaler.transform(X_test[non_boolean])\n",
    "\n",
    "# Convert them again into DataFrames:\n",
    "X_train_scaled = pd.DataFrame(X_train_scaled_np, columns=non_boolean)\n",
    "X_test_scaled = pd.DataFrame(X_test_scaled_np, columns=non_boolean)"
   ]
  },
  {
   "cell_type": "code",
   "execution_count": 62,
   "id": "186f6b92",
   "metadata": {},
   "outputs": [],
   "source": [
    "# Add the Boolean and the Non-Boolean features altogether: \n",
    "X_train_scaled = pd.concat([X_train_scaled.reset_index(drop=True), \n",
    "                              X_train[boolean].reset_index(drop=True)], axis=1)\n",
    "X_test_scaled = pd.concat([X_test_scaled.reset_index(drop=True), \n",
    "                             X_test[boolean].reset_index(drop=True)], axis=1)"
   ]
  },
  {
   "cell_type": "markdown",
   "id": "ee818a76",
   "metadata": {},
   "source": [
    "    "
   ]
  },
  {
   "cell_type": "markdown",
   "id": "2c7548fc",
   "metadata": {},
   "source": [
    "We validate that now all (non-boolean) features are centered around zero with a standard deviation of 1. "
   ]
  },
  {
   "cell_type": "code",
   "execution_count": 63,
   "id": "54b6856d",
   "metadata": {},
   "outputs": [
    {
     "data": {
      "text/html": [
       "<div>\n",
       "<style scoped>\n",
       "    .dataframe tbody tr th:only-of-type {\n",
       "        vertical-align: middle;\n",
       "    }\n",
       "\n",
       "    .dataframe tbody tr th {\n",
       "        vertical-align: top;\n",
       "    }\n",
       "\n",
       "    .dataframe thead th {\n",
       "        text-align: right;\n",
       "    }\n",
       "</style>\n",
       "<table border=\"1\" class=\"dataframe\">\n",
       "  <thead>\n",
       "    <tr style=\"text-align: right;\">\n",
       "      <th></th>\n",
       "      <th>sq_meters</th>\n",
       "      <th>rooms</th>\n",
       "      <th>no_of_bathrooms</th>\n",
       "      <th>no_of_wc</th>\n",
       "      <th>living_rooms</th>\n",
       "      <th>kitchens</th>\n",
       "      <th>balcony_area</th>\n",
       "      <th>years_since_construction</th>\n",
       "      <th>years_since_renovation</th>\n",
       "    </tr>\n",
       "  </thead>\n",
       "  <tbody>\n",
       "    <tr>\n",
       "      <th>mean</th>\n",
       "      <td>0.000</td>\n",
       "      <td>-0.000</td>\n",
       "      <td>-0.000</td>\n",
       "      <td>0.000</td>\n",
       "      <td>0.000</td>\n",
       "      <td>-0.000</td>\n",
       "      <td>0.000</td>\n",
       "      <td>-0.000</td>\n",
       "      <td>0.000</td>\n",
       "    </tr>\n",
       "    <tr>\n",
       "      <th>std</th>\n",
       "      <td>1.000</td>\n",
       "      <td>1.000</td>\n",
       "      <td>1.000</td>\n",
       "      <td>1.000</td>\n",
       "      <td>1.000</td>\n",
       "      <td>1.000</td>\n",
       "      <td>1.000</td>\n",
       "      <td>1.000</td>\n",
       "      <td>1.000</td>\n",
       "    </tr>\n",
       "  </tbody>\n",
       "</table>\n",
       "</div>"
      ],
      "text/plain": [
       "      sq_meters  rooms  no_of_bathrooms  no_of_wc  living_rooms  kitchens   \n",
       "mean      0.000 -0.000           -0.000     0.000         0.000    -0.000  \\\n",
       "std       1.000  1.000            1.000     1.000         1.000     1.000   \n",
       "\n",
       "      balcony_area  years_since_construction  years_since_renovation  \n",
       "mean         0.000                    -0.000                   0.000  \n",
       "std          1.000                     1.000                   1.000  "
      ]
     },
     "execution_count": 63,
     "metadata": {},
     "output_type": "execute_result"
    }
   ],
   "source": [
    "X_train_scaled[non_boolean].describe().loc[['mean', 'std']]"
   ]
  },
  {
   "cell_type": "markdown",
   "id": "ba01ec0f",
   "metadata": {},
   "source": [
    "    "
   ]
  },
  {
   "cell_type": "markdown",
   "id": "383444ca",
   "metadata": {},
   "source": [
    "#### Choosing Evaluation Metric"
   ]
  },
  {
   "cell_type": "markdown",
   "id": "d8aea630",
   "metadata": {},
   "source": [
    "In order to measure how well the trained model is performing, the *Root Mean Squared Error (RMSE)* metric has been chosen. \n",
    "\n",
    "The advantage of using RMSE over MSE (*Mean Squared Error*) is that it is more interpretable and easier to understand as it is in the same units as the target variable. This means that RMSE can give us a better idea of the magnitude of the error in our predictions."
   ]
  },
  {
   "cell_type": "markdown",
   "id": "8dd9bb3e",
   "metadata": {},
   "source": [
    "    "
   ]
  },
  {
   "cell_type": "markdown",
   "id": "845c138c",
   "metadata": {},
   "source": [
    "#### Establishing a baseline performance"
   ]
  },
  {
   "cell_type": "markdown",
   "id": "2dbd5949",
   "metadata": {},
   "source": [
    "To provide a starting point for the evaluation of the performance of the models, we will *establish a baseline of performance*, which we will use as a benchmark to evaluate the performance of more complex models. This baseline will be the performance of a simple model that always predicts the *mean* value computed on the train set. "
   ]
  },
  {
   "cell_type": "code",
   "execution_count": 64,
   "id": "df870884",
   "metadata": {},
   "outputs": [
    {
     "name": "stdout",
     "output_type": "stream",
     "text": [
      "The baseline performance is: \tRMSE = 725179\n",
      "R2-score of baseline: \t\tR2=-0.00042\n"
     ]
    }
   ],
   "source": [
    "# The predictions will be the average 'price' computed on the train set:\n",
    "pred_baseline = y_train.mean() \n",
    "mse = mean_squared_error(np.array(y_test), np.full((y_test.shape[0]),pred_baseline))\n",
    "r2 = r2_score(np.array(y_test), np.full((y_test.shape[0]),pred_baseline))\n",
    "rmse_baseline = int(np.sqrt(mse))\n",
    "\n",
    "print(f\"The baseline performance is: \\tRMSE = {rmse_baseline}\")\n",
    "print(f\"R2-score of baseline: \\t\\tR2={round(r2,5)}\")"
   ]
  },
  {
   "cell_type": "markdown",
   "id": "dabf21b5",
   "metadata": {},
   "source": [
    "    "
   ]
  },
  {
   "cell_type": "markdown",
   "id": "ccb80616",
   "metadata": {},
   "source": [
    "    "
   ]
  },
  {
   "cell_type": "markdown",
   "id": "1c3729db",
   "metadata": {},
   "source": [
    "### Train models <a class=\"anchor\" id=\"train_models\"></a>"
   ]
  },
  {
   "cell_type": "markdown",
   "id": "269f93d2",
   "metadata": {},
   "source": [
    "This is a Supervised ML problem, and specifically a **Regression problem**, since what we are are predicting is a numerical variable, *price*. "
   ]
  },
  {
   "cell_type": "markdown",
   "id": "aee7450c",
   "metadata": {},
   "source": [
    "    "
   ]
  },
  {
   "cell_type": "markdown",
   "id": "0239ef0c",
   "metadata": {},
   "source": [
    "    "
   ]
  },
  {
   "cell_type": "markdown",
   "id": "c606c334",
   "metadata": {},
   "source": [
    "### Extreme Gradient Boosting (XGBoost)"
   ]
  },
  {
   "cell_type": "markdown",
   "id": "6fbb5ada",
   "metadata": {},
   "source": [
    "#### Hyper-parameter tuning"
   ]
  },
  {
   "cell_type": "code",
   "execution_count": 65,
   "id": "7ed39d7b",
   "metadata": {},
   "outputs": [
    {
     "name": "stdout",
     "output_type": "stream",
     "text": [
      "Fitting 4 folds for each of 40 candidates, totalling 160 fits\n",
      "\n",
      "Best parameters found: {'learning_rate': 0.1, 'n_estimators': 200, 'subsample': 0.9}\n",
      "\n",
      "Lowest RMSE found:  429660\n"
     ]
    }
   ],
   "source": [
    "gbm_param_grid = {'learning_rate': [0.01, 0.1, 0.5, 0.9],\n",
    "                  'n_estimators': [100, 200],\n",
    "                  'subsample': [0.3, 0.4, 0.5, 0.9, 1]}\n",
    "\n",
    "xgb = XGBRegressor()\n",
    "\n",
    "grid_mse = GridSearchCV(estimator=xgb, \n",
    "                        param_grid=gbm_param_grid, \n",
    "                        scoring='neg_mean_squared_error', cv=4, verbose=1)\n",
    "grid_mse.fit(X_train_scaled, y_train)\n",
    "\n",
    "print(f\"\\nBest parameters found: {grid_mse.best_params_}\")\n",
    "print(f\"\\nLowest RMSE found:  {int(np.sqrt(np.abs(grid_mse.best_score_)))}\")"
   ]
  },
  {
   "cell_type": "markdown",
   "id": "cb52ad09",
   "metadata": {},
   "source": [
    "    "
   ]
  },
  {
   "cell_type": "markdown",
   "id": "bf458dd3",
   "metadata": {},
   "source": [
    "#### Making predictions on the test set"
   ]
  },
  {
   "cell_type": "code",
   "execution_count": 66,
   "id": "1378d3f5",
   "metadata": {},
   "outputs": [
    {
     "name": "stdout",
     "output_type": "stream",
     "text": [
      "RMSE on train set: 152783\n",
      "RMSE on test set:  440662\n",
      "\n",
      "RMSE baseline:     725179\n",
      "\n",
      "R2-score on test set: 0.608\n"
     ]
    }
   ],
   "source": [
    "xgb = XGBRegressor(learning_rate=0.1, n_estimators=200, subsample=0.9)\n",
    "xgb.fit(X_train_scaled, y_train)\n",
    "\n",
    "y_pred_test = xgb.predict(X_test_scaled)\n",
    "y_pred_train = xgb.predict(X_train_scaled)\n",
    "\n",
    "mse_train = mean_squared_error(y_pred_train, y_train)\n",
    "rmse_train = np.sqrt(mse_train)\n",
    "mse_test = mean_squared_error(y_pred_test, y_test)\n",
    "mae_test = mean_absolute_error(y_pred_test, y_test)\n",
    "rmse_test = np.sqrt(mse_test)\n",
    "r2 = r2_score(y_pred_test, y_test)\n",
    "\n",
    "print(f\"RMSE on train set: {int(rmse_train)}\")\n",
    "print(f\"RMSE on test set:  {int(rmse_test)}\")\n",
    "\n",
    "print(f\"\\nRMSE baseline:     {rmse_baseline}\")\n",
    "\n",
    "print(f\"\\nR2-score on test set: {round(r2,3)}\")\n"
   ]
  },
  {
   "cell_type": "markdown",
   "id": "3e91b8f6",
   "metadata": {},
   "source": [
    "    "
   ]
  },
  {
   "cell_type": "markdown",
   "id": "23b114eb",
   "metadata": {},
   "source": [
    "We see that the accuracy of XGBoost on the test set is better than the baseline. On the other hand the performance of the model on the test set is significantly worse than the performance on the train set. This is a sign of *high-bias (overfitting)*. "
   ]
  },
  {
   "cell_type": "markdown",
   "id": "a617f7f5",
   "metadata": {},
   "source": [
    "    "
   ]
  },
  {
   "cell_type": "markdown",
   "id": "e6ea6ba0",
   "metadata": {},
   "source": [
    "### Importance of Features"
   ]
  },
  {
   "cell_type": "markdown",
   "id": "f7ec2e8b",
   "metadata": {},
   "source": [
    "A benefit of using ensembles of decision tree methods like gradient boosting is that they can automatically provide estimates of feature importance from a trained predictive model.\n",
    "\n",
    "The following graph provides a score that indicates how useful or valuable each feature was in the construction of the boosted decision trees within the model. The more an attribute is used to make key decisions with decision trees, the higher its relative importance.\n",
    "\n",
    "The 10 most important features that an agent should input to get an accurate forecast are, in descending importance, are: \n",
    "\n",
    "1. Number of Square meters\n",
    "2. Age of building (# years since it was constructed)\n",
    "3. Number of rooms\n",
    "4. Number of years since it was renovated\n",
    "5. Number of bathrooms\n",
    "6. Number of wc\n",
    "7. Whether it is of 'detached' type\n",
    "8. Number of kitchens\n",
    "9. Number of living rooms\n",
    "10. Whether it is on 'South beach' area "
   ]
  },
  {
   "cell_type": "markdown",
   "id": "b9db30a7",
   "metadata": {},
   "source": [
    "    "
   ]
  },
  {
   "cell_type": "code",
   "execution_count": 67,
   "id": "a6278bbd",
   "metadata": {},
   "outputs": [
    {
     "data": {
      "image/png": "[encoded data removed]",
      "text/plain": [
       "<Figure size 2000x3000 with 1 Axes>"
      ]
     },
     "metadata": {},
     "output_type": "display_data"
    }
   ],
   "source": [
    "fig, ax = plt.subplots(figsize=(20, 30))\n",
    "plot_importance(xgb, ax=ax)\n",
    "\n",
    "plt.show()"
   ]
  },
  {
   "cell_type": "markdown",
   "id": "7a96b4cf",
   "metadata": {},
   "source": [
    "    "
   ]
  },
  {
   "cell_type": "markdown",
   "id": "2e8fd4bf",
   "metadata": {},
   "source": [
    "### What to do if I had more time"
   ]
  },
  {
   "cell_type": "markdown",
   "id": "ffcad6ac",
   "metadata": {},
   "source": [
    "\n",
    "- Some Diagnostics tests in order to find the reason that the model is overfitting the data. \n",
    "- Some further feature engineering (removing Outliers)\n",
    "- Trying Regularized Polynomial/Linear Regression\n",
    "- By accessing the coefficients of Linear Regression we would also get to know the feature importance (the higher the coefficient the more important the corresponding feature)"
   ]
  },
  {
   "cell_type": "markdown",
   "id": "5fc17e9c",
   "metadata": {},
   "source": [
    "# The End"
   ]
  }
 ],
 "metadata": {
  "kernelspec": {
   "display_name": "Python 3 (ipykernel)",
   "language": "python",
   "name": "python3"
  },
  "language_info": {
   "codemirror_mode": {
    "name": "ipython",
    "version": 3
   },
   "file_extension": ".py",
   "mimetype": "text/x-python",
   "name": "python",
   "nbconvert_exporter": "python",
   "pygments_lexer": "ipython3",
   "version": "3.10.6"
  }
 },
 "nbformat": 4,
 "nbformat_minor": 5
}
